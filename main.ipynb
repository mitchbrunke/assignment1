{
 "cells": [
  {
   "cell_type": "markdown",
   "id": "451affd4",
   "metadata": {},
   "source": [
    "\n",
    "# Introduction\n",
    "In this document, we attempt to establish a direct correlation between the risk of COVID-19 infection, mortality, and smoking by exploring the Nexoid COVID-19 medical dataset. \n",
    "Additionally, we identify other insights and relationships between features that provide a more nuanced overview of the subject matter, including the impact of pre-existing health conditions and lifestyle factors that contribute to the risk of infection and risk mortality."
   ]
  },
  {
   "cell_type": "code",
   "execution_count": 301,
   "id": "c55d44b2",
   "metadata": {},
   "outputs": [],
   "source": [
    "# Import Required Libraries\n",
    "\n",
    "import pandas as pd\n",
    "import numpy as np\n",
    "import matplotlib.pyplot as plt\n",
    "import seaborn as sns\n",
    "from datetime import datetime\n",
    "import warnings\n",
    "from pandas.api.types import CategoricalDtype\n",
    "from scipy.stats import chi2_contingency\n",
    "\n",
    "warnings.filterwarnings(\"ignore\")"
   ]
  },
  {
   "cell_type": "code",
   "execution_count": null,
   "id": "6fbed5d6",
   "metadata": {
    "lines_to_next_cell": 2
   },
   "outputs": [],
   "source": [
    "# Load the dataset\n",
    "df = pd.read_csv(\"medical-dataset.csv\")\n",
    "\n",
    "print(\"--- Initial Data Types ---\")\n",
    "print(df.dtypes)"
   ]
  },
  {
   "cell_type": "markdown",
   "id": "e42e5055",
   "metadata": {},
   "source": [
    "# Task 1 - Data Type Corrections for Medical Dataset"
   ]
  },
  {
   "cell_type": "markdown",
   "id": "f2dcf88f",
   "metadata": {},
   "source": [
    "### Insurance correction"
   ]
  },
  {
   "cell_type": "code",
   "execution_count": null,
   "id": "2465e857",
   "metadata": {
    "lines_to_next_cell": 2
   },
   "outputs": [],
   "source": [
    "# Check data type of 'insurance' column\n",
    "print(\"Data type of 'insurance' column:\", df['insurance'].dtype)\n",
    "\n",
    "# Check for missing values\n",
    "print(\"Number of missing values in 'insurance' column:\", df['insurance'].isnull().sum())\n",
    "\n",
    "# Display the first few rows of the 'insurance' column\n",
    "print(\"First few rows of 'insurance' column:\")\n",
    "print(df['insurance'].head())\n",
    "\n",
    "# Display the last few rows of 'insurance' column\n",
    "print(\"Last few rows of 'insurance' column:\")\n",
    "print(df['insurance'].tail())"
   ]
  },
  {
   "cell_type": "code",
   "execution_count": null,
   "id": "65d2b0dd",
   "metadata": {},
   "outputs": [],
   "source": [
    "df['insurance'].value_counts()"
   ]
  },
  {
   "cell_type": "markdown",
   "id": "e4f1932d",
   "metadata": {},
   "source": [
    "### Date Conversion"
   ]
  },
  {
   "cell_type": "code",
   "execution_count": 305,
   "id": "03d129e0",
   "metadata": {},
   "outputs": [],
   "source": [
    "def convert_date(date_str):\n",
    "    if pd.isna(date_str):\n",
    "        return pd.NaT\n",
    "    try:\n",
    "        for fmt in ['%Y-%m-%d %H:%M:%S', '%d/%m/%Y', '%Y-%m-%d']:\n",
    "            try:\n",
    "                return pd.to_datetime(date_str, format=fmt)\n",
    "            except:\n",
    "                continue\n",
    "        return pd.to_datetime(date_str, infer_datetime_format=True)\n",
    "    except:\n",
    "        return pd.NaT\n",
    "\n",
    "df['survey_date'] = df['survey_date'].apply(convert_date)\n",
    "\n",
    "\n",
    "# ##"
   ]
  },
  {
   "cell_type": "markdown",
   "id": "7f5804bd",
   "metadata": {},
   "source": [
    "### Region and Country - Convert to Categorical with 'Unknown'"
   ]
  },
  {
   "cell_type": "code",
   "execution_count": null,
   "id": "a856e2bf",
   "metadata": {},
   "outputs": [],
   "source": [
    "for col in ['region', 'country']:\n",
    "    df[col] = df[col].astype('category')\n",
    "    if 'Unknown' not in df[col].cat.categories:\n",
    "        df[col] = df[col].cat.add_categories('Unknown')\n",
    "    df[col] = df[col].fillna('Unknown')\n",
    "    \n",
    "    print(f\"\\n{col.capitalize()} Categories:\")\n",
    "    print(df[col].value_counts())"
   ]
  },
  {
   "cell_type": "markdown",
   "id": "322547dd",
   "metadata": {},
   "source": [
    "### Drop longitude and latitude due to no meaningful significance"
   ]
  },
  {
   "cell_type": "code",
   "execution_count": 307,
   "id": "68633b64",
   "metadata": {},
   "outputs": [],
   "source": [
    "df.drop(columns=['ip_longitude', 'ip_latitude'], inplace=True)"
   ]
  },
  {
   "cell_type": "markdown",
   "id": "55e4f442",
   "metadata": {},
   "source": [
    "### Age - Convert to Ordered Categorical"
   ]
  },
  {
   "cell_type": "code",
   "execution_count": null,
   "id": "24bc4845",
   "metadata": {},
   "outputs": [],
   "source": [
    "df['age'] = df['age'].replace(\"100_110\", \"90_plus\")\n",
    "age_order = ['0_10', '10_20', '20_30', '30_40', '40_50', '50_60', \n",
    "             '60_70', '70_80', '80_90', '90_plus']\n",
    "age_dtype = pd.api.types.CategoricalDtype(categories=age_order, ordered=True)\n",
    "df['age'] = df['age'].astype(age_dtype)\n",
    "\n",
    "# Display age categories and their counts\n",
    "print(\"Age Categories:\")\n",
    "print(df['age'].cat.categories)\n",
    "print(\"\\nAge Value Counts:\")\n",
    "df['age'].value_counts(sort=False)"
   ]
  },
  {
   "cell_type": "markdown",
   "id": "ecd08d6c",
   "metadata": {},
   "source": [
    "### Gender"
   ]
  },
  {
   "cell_type": "code",
   "execution_count": null,
   "id": "ee3cfb5b",
   "metadata": {},
   "outputs": [],
   "source": [
    "df['gender'] = df['gender'].astype('category')\n",
    "print(\"Gender Categories:\")\n",
    "df['gender'].value_counts()"
   ]
  },
  {
   "cell_type": "markdown",
   "id": "0cc85e3a",
   "metadata": {},
   "source": [
    "### Height and Weight - Convert to Integer"
   ]
  },
  {
   "cell_type": "code",
   "execution_count": null,
   "id": "74763694",
   "metadata": {},
   "outputs": [],
   "source": [
    "df['height'] = df['height'].astype('Int64')  # Using Int64 to handle NaN values\n",
    "df['weight'] = df['weight'].astype('Int64')\n",
    "\n",
    "print(\"Height Summary:\")\n",
    "print(df['height'].describe())\n",
    "print(\"\\nWeight Summary:\")\n",
    "print(df['weight'].describe())\n",
    "\n",
    "\n",
    "# ### 6. BMI - Keep as Float"
   ]
  },
  {
   "cell_type": "markdown",
   "id": "bfbcc7b4",
   "metadata": {},
   "source": [
    " ### Blood Type - Convert to Categorical with 'Unknown'"
   ]
  },
  {
   "cell_type": "code",
   "execution_count": null,
   "id": "b1cdaade",
   "metadata": {},
   "outputs": [],
   "source": [
    "df['bmi'] = df['bmi'].astype('float64')\n",
    "print(\"BMI Summary:\")\n",
    "df['bmi'].describe()"
   ]
  },
  {
   "cell_type": "code",
   "execution_count": null,
   "id": "ffc1a80a",
   "metadata": {},
   "outputs": [],
   "source": [
    "df['blood_type'] = df['blood_type'].astype('category')\n",
    "if 'Unknown' not in df['blood_type'].cat.categories:\n",
    "    df['blood_type'] = df['blood_type'].cat.add_categories('Unknown')\n",
    "df['blood_type'] = df['blood_type'].fillna('Unknown')\n",
    "\n",
    "print(\"Blood Type Categories:\")\n",
    "df['blood_type'].value_counts()"
   ]
  },
  {
   "cell_type": "markdown",
   "id": "3e9c28c1",
   "metadata": {},
   "source": [
    "### Insurance to categorical"
   ]
  },
  {
   "cell_type": "code",
   "execution_count": null,
   "id": "9d58d471",
   "metadata": {},
   "outputs": [],
   "source": [
    "# Convert to Boolean with NA for Blank and Unknown\n",
    "df['insurance'] = df['insurance'].str.title()\n",
    "df['insurance'] = df['insurance'].map({'Yes': True, 'No': False, 'Blank': pd.NA, 'Unknown': pd.NA})\n",
    "print(\"Insurance Value Counts:\")\n",
    "df['insurance'].value_counts()"
   ]
  },
  {
   "cell_type": "markdown",
   "id": "3552ceb5",
   "metadata": {},
   "source": [
    "### Income - Convert to Categorical"
   ]
  },
  {
   "cell_type": "code",
   "execution_count": null,
   "id": "cb1e050b",
   "metadata": {},
   "outputs": [],
   "source": [
    "df['income'] = df['income'].astype('category')\n",
    "print(\"Income Categories:\")\n",
    "df['income'].value_counts()\n",
    "\n",
    "\n",
    "# ### 10. Smoking - Convert to Categorical with Bins"
   ]
  },
  {
   "cell_type": "markdown",
   "id": "e79f2293",
   "metadata": {},
   "source": [
    "### Smoking to bins"
   ]
  },
  {
   "cell_type": "code",
   "execution_count": null,
   "id": "72bcbe8f",
   "metadata": {},
   "outputs": [],
   "source": [
    "smoking_bins = {\n",
    "    'quit0': 'Former Smoker',\n",
    "    'quit5': 'Former Smoker',\n",
    "    'quit10': 'Former Smoker',\n",
    "    'vape': 'Vape User',\n",
    "    'yesheavy': 'Heavy Smoker',\n",
    "    'light': 'Light Smoker',\n",
    "    'medium': 'Medium Smoker',\n",
    "    'never': 'Never Smoked',\n",
    "    -1: 'Unknown'\n",
    "}\n",
    "df['smoking'] = df['smoking'].replace(smoking_bins)\n",
    "df['smoking'] = df['smoking'].astype('category')\n",
    "\n",
    "print(\"Smoking Categories:\")\n",
    "df['smoking'].value_counts()"
   ]
  },
  {
   "cell_type": "markdown",
   "id": "524ea2cc",
   "metadata": {},
   "source": [
    "### Alcohol - Convert to Categorical Ordinal"
   ]
  },
  {
   "cell_type": "code",
   "execution_count": null,
   "id": "34317eb6",
   "metadata": {},
   "outputs": [],
   "source": [
    "df['alcohol'] = df['alcohol'].replace(-1, 'Unknown')\n",
    "df['alcohol'] = df['alcohol'].astype('category')\n",
    "\n",
    "print(\"Alcohol Categories:\")\n",
    "df['alcohol'].value_counts()\n",
    "\n",
    "\n",
    "# ### 12. Cocaine - Convert to Categorical with Unknown"
   ]
  },
  {
   "cell_type": "code",
   "execution_count": null,
   "id": "ceecb0f2",
   "metadata": {},
   "outputs": [],
   "source": [
    "df['cocaine'] = df['cocaine'].replace(-1, 'Unknown')\n",
    "df['cocaine'] = df['cocaine'].astype('category')\n",
    "\n",
    "print(\"Cocaine Categories:\")\n",
    "df['cocaine'].value_counts()"
   ]
  },
  {
   "cell_type": "markdown",
   "id": "34041948",
   "metadata": {},
   "source": [
    "### Contact Counts - Convert to Int64"
   ]
  },
  {
   "cell_type": "code",
   "execution_count": null,
   "id": "5ba265f6",
   "metadata": {},
   "outputs": [],
   "source": [
    "df['contacts_count'] = df['contacts_count'].astype('Int64')\n",
    "df['public_transport_count'] = df['public_transport_count'].astype('Int64')\n",
    "\n",
    "print(\"Contacts Count Summary:\")\n",
    "print(df['contacts_count'].describe())\n",
    "print(\"\\nPublic Transport Count Summary:\")\n",
    "print(df['public_transport_count'].describe())"
   ]
  },
  {
   "cell_type": "markdown",
   "id": "bfd27a73",
   "metadata": {},
   "source": [
    "### Working - Convert to Categorical"
   ]
  },
  {
   "cell_type": "code",
   "execution_count": null,
   "id": "5bf01aef",
   "metadata": {},
   "outputs": [],
   "source": [
    "df['working'] = df['working'].astype('category')\n",
    "print(\"Working Status Categories:\")\n",
    "df['working'].value_counts()"
   ]
  },
  {
   "cell_type": "markdown",
   "id": "1d0b3ed6",
   "metadata": {},
   "source": [
    "### Worried - Convert to Integer"
   ]
  },
  {
   "cell_type": "code",
   "execution_count": null,
   "id": "1fa6b2e6",
   "metadata": {},
   "outputs": [],
   "source": [
    "df['worried'] = df['worried'].astype('Int64')\n",
    "print(\"Worried Level Summary:\")\n",
    "df['worried'].describe()"
   ]
  },
  {
   "cell_type": "markdown",
   "id": "b96cd8ae",
   "metadata": {},
   "source": [
    "### Health Conditions - Convert to Boolean"
   ]
  },
  {
   "cell_type": "code",
   "execution_count": null,
   "id": "4fc72bb9",
   "metadata": {},
   "outputs": [],
   "source": [
    "health_conditions = [\n",
    "    'covid19_positive', 'covid19_symptoms', 'covid19_contact',\n",
    "    'asthma', 'kidney_disease', 'liver_disease', 'compromised_immune',\n",
    "    'heart_disease', 'lung_disease', 'diabetes', 'hiv_positive',\n",
    "    'other_chronic', 'nursing_home', 'health_worker'\n",
    "]\n",
    "\n",
    "for col in health_conditions:\n",
    "    df[col] = df[col].astype('bool')\n",
    "    \n",
    "print(\"Health Conditions Summary:\")\n",
    "for col in health_conditions:\n",
    "    print(f\"\\n{col}:\")\n",
    "    print(df[col].value_counts())"
   ]
  },
  {
   "cell_type": "markdown",
   "id": "3e72ab0e",
   "metadata": {},
   "source": [
    "### Risk Values - Convert to Float and Normalize"
   ]
  },
  {
   "cell_type": "code",
   "execution_count": null,
   "id": "b3653a0c",
   "metadata": {},
   "outputs": [],
   "source": [
    "df['risk_infection'] = df['risk_infection'].astype('float64') / 100\n",
    "df['risk_mortality'] = df['risk_mortality'].astype('float64') / 100\n",
    "\n",
    "print(\"Risk Infection Summary:\")\n",
    "print(df['risk_infection'].describe())\n",
    "print(\"\\nRisk Mortality Summary:\")\n",
    "print(df['risk_mortality'].describe())"
   ]
  },
  {
   "cell_type": "markdown",
   "id": "bbfa02ba",
   "metadata": {},
   "source": [
    "### Final Data Types Check"
   ]
  },
  {
   "cell_type": "code",
   "execution_count": null,
   "id": "091627e8",
   "metadata": {},
   "outputs": [],
   "source": [
    "print(\"Final Data Types:\")\n",
    "df.dtypes"
   ]
  },
  {
   "cell_type": "markdown",
   "id": "d8c4b375",
   "metadata": {},
   "source": [
    "\n",
    "# Task 2 - Data Preparation - Identify issues and clean/transform"
   ]
  },
  {
   "cell_type": "markdown",
   "id": "cc9b60ba",
   "metadata": {},
   "source": [
    "### Identify Skewness in Numerical Variables"
   ]
  },
  {
   "cell_type": "code",
   "execution_count": null,
   "id": "e8db125f",
   "metadata": {},
   "outputs": [],
   "source": [
    "numerical_cols = df.select_dtypes(include=[np.number]).columns\n",
    "skewness_results = {}\n",
    "\n",
    "for col in numerical_cols:\n",
    "    if col in df.columns:\n",
    "        skewness = df[col].skew()\n",
    "        skewness_results[col] = skewness\n",
    "        print(f\"{col}: {skewness:.3f}\")\n",
    "\n",
    "# Visualize distributions\n",
    "plt.figure(figsize=(15, 10))\n",
    "for i, col in enumerate(['height', 'weight', 'bmi', 'contacts_count', 'public_transport_count', 'worried', 'risk_infection', 'risk_mortality'], 1):\n",
    "    plt.subplot(4, 2, i)\n",
    "    df[col].hist(bins=30)\n",
    "    plt.title(f'Distribution of {col} (Skewness: {df[col].skew():.3f})')\n",
    "    plt.xlabel(col)\n",
    "    plt.ylabel('Frequency')\n",
    "plt.tight_layout()\n",
    "plt.show()"
   ]
  },
  {
   "cell_type": "markdown",
   "id": "3e4e0ceb",
   "metadata": {},
   "source": [
    "### Identify Missing Values and Errors"
   ]
  },
  {
   "cell_type": "code",
   "execution_count": null,
   "id": "a5802c27",
   "metadata": {
    "lines_to_next_cell": 2
   },
   "outputs": [],
   "source": [
    "missing_values = df.isnull().sum()\n",
    "print(missing_values[missing_values > 0])"
   ]
  },
  {
   "cell_type": "markdown",
   "id": "d3ee2a4d",
   "metadata": {},
   "source": [
    "### Visualise the missing data..."
   ]
  },
  {
   "cell_type": "code",
   "execution_count": null,
   "id": "8b9ae02b",
   "metadata": {
    "lines_to_next_cell": 2
   },
   "outputs": [],
   "source": [
    "plt.figure(figsize=(10, 6))\n",
    "sns.heatmap(df.isnull(), cbar=False)\n",
    "plt.title('Missing Values Heatmap')\n",
    "plt.show()"
   ]
  },
  {
   "cell_type": "code",
   "execution_count": null,
   "id": "d584c8a7",
   "metadata": {
    "lines_to_next_cell": 2
   },
   "outputs": [],
   "source": [
    "# Again as histogram\n",
    "print(df.isnull().sum())\n",
    "\n",
    "# Plotting missing values\n",
    "missing_counts = df.isnull().sum()\n",
    "missing_counts = missing_counts[missing_counts > 0] # Only plot columns with missing values\n",
    "plt.figure(figsize=(10, 6))\n",
    "sns.barplot(x=missing_counts.index, y=missing_counts.values)\n",
    "plt.xticks(rotation=45, ha='right')\n",
    "plt.title('Count of Missing Values per Column')\n",
    "plt.ylabel('Number of Missing Values')\n",
    "plt.tight_layout()\n",
    "plt.show()"
   ]
  },
  {
   "cell_type": "markdown",
   "id": "cb034076",
   "metadata": {},
   "source": [
    "### Potential Anomalies in Numerical Data"
   ]
  },
  {
   "cell_type": "code",
   "execution_count": null,
   "id": "f80f3577",
   "metadata": {},
   "outputs": [],
   "source": [
    "for col in ['height', 'weight', 'bmi', 'public_transport_count']:\n",
    "    print(f\"\\n{col} - Outliers based on IQR:\")\n",
    "    Q1 = df[col].quantile(0.25)\n",
    "    Q3 = df[col].quantile(0.75)\n",
    "    IQR = Q3 - Q1\n",
    "    lower_bound = Q1 - 1.5 * IQR\n",
    "    upper_bound = Q3 + 1.5 * IQR\n",
    "    outliers = df[(df[col] < lower_bound) | (df[col] > upper_bound)][col]\n",
    "    print(f\"Number of outliers: {len(outliers)}\")\n",
    "    if len(outliers) > 0:\n",
    "        print(f\"Range of outliers: {outliers.min()} to {outliers.max()}\")\n",
    "\n",
    "     # Add a box plot for visualization\n",
    "    plt.figure(figsize=(8, 4))\n",
    "    sns.boxplot(x=df[col])\n",
    "    plt.title(f\"Box plot of {col}\")\n",
    "    plt.xlabel(col)\n",
    "    plt.show()"
   ]
  },
  {
   "cell_type": "markdown",
   "id": "bb93b0ff",
   "metadata": {},
   "source": [
    "### Fill missing Risk of Infection percentages with mean values within age brackets"
   ]
  },
  {
   "cell_type": "code",
   "execution_count": null,
   "id": "92b3d97a",
   "metadata": {},
   "outputs": [],
   "source": [
    "# Calcu late the mean 'risk_infection' for each 'age' group\n",
    "age_group_means = df.groupby('age')['risk_infection'].transform('mean')\n",
    "\n",
    "# Fill missing 'risk_infection' values with the calculated age group means\n",
    "df['risk_infection'].fillna(age_group_means, inplace=True)\n",
    "\n",
    "# fill remaining NaNs with the global mean of 'risk_infection'\n",
    "global_mean_risk_infection = df['risk_infection'].mean()\n",
    "df['risk_infection'].fillna(global_mean_risk_infection, inplace=True)\n",
    "\n",
    "# Verify that there are no more missing risk_infection values\n",
    "print(f\"Missing 'risk_infection' values after processing: {df['risk_infection'].isnull().sum()}\")\n",
    "print(df.groupby('age')['risk_infection'].mean().head())"
   ]
  },
  {
   "cell_type": "markdown",
   "id": "4bbebec8",
   "metadata": {},
   "source": [
    "### Fill Missing BMI Values with Median"
   ]
  },
  {
   "cell_type": "code",
   "execution_count": null,
   "id": "ac062b4f",
   "metadata": {},
   "outputs": [],
   "source": [
    "bmi_median = df['bmi'].median()\n",
    "df['bmi'].fillna(bmi_median, inplace=True)\n",
    "\n",
    "print(f\"Missing BMI values filled with median: {bmi_median}\")\n",
    "print(f\"Number of remaining NaNs in BMI: {df['bmi'].isnull().sum()}\")"
   ]
  },
  {
   "cell_type": "code",
   "execution_count": null,
   "id": "7f0de89f",
   "metadata": {},
   "outputs": [],
   "source": [
    "numerical_cols = ['height', 'weight', 'bmi', 'risk_infection', 'risk_mortality']\n",
    "\n",
    "plt.figure(figsize=(15, 10))\n",
    "\n",
    "for i, col in enumerate(numerical_cols):\n",
    "    plt.subplot(2, 3, i + 1)\n",
    "    sns.histplot(df[col].dropna(), kde=True)\n",
    "    plt.title(f'Distribution of {col.replace(\"_\", \" \").title()}')\n",
    "    plt.xlabel(col.replace(\"_\", \" \").title())\n",
    "    plt.ylabel('Frequency')\n",
    "plt.tight_layout()\n",
    "plt.show()"
   ]
  },
  {
   "cell_type": "markdown",
   "id": "c6733f35",
   "metadata": {},
   "source": [
    "# Task 3 - Data Mining and Feature Selection"
   ]
  },
  {
   "cell_type": "markdown",
   "id": "f7fddf7b",
   "metadata": {},
   "source": [
    "### Calculation infection rates by smoking category"
   ]
  },
  {
   "cell_type": "code",
   "execution_count": null,
   "id": "4a0f0c76",
   "metadata": {
    "lines_to_next_cell": 2
   },
   "outputs": [],
   "source": [
    "# Create  table for smoking status vs COVID-19 positive\n",
    "contingency_table = pd.crosstab(df[\"smoking\"], df[\"covid19_positive\"])\n",
    "\n",
    "print(\"--- COVID-19 Infection Analysis by Smoking Status ---\\n\")\n",
    "\n",
    "# Display frequency distributions\n",
    "print(\"--- COVID-19 Positive Distribution ---\")\n",
    "covid_dist = df[\"covid19_positive\"].value_counts(normalize=True) * 100\n",
    "print(f\"Positive: {covid_dist[True]:.1f}%\")\n",
    "print(f\"Negative: {covid_dist[False]:.1f}%\")\n",
    "\n",
    "print(\"\\n--- Smoking Status Distribution ---\")\n",
    "smoking_dist = df[\"smoking\"].value_counts(normalize=True) * 100\n",
    "for category, percentage in smoking_dist.items():\n",
    "    print(f\"{category}: {percentage:.1f}%\")\n",
    "\n",
    "    \n",
    "# Calculate infection rates by smoking category\n",
    "infection_rates = contingency_table.div(contingency_table.sum(axis=1), axis=0) * 100\n",
    "infection_summary = pd.DataFrame({\n",
    "    'Total_Cases': contingency_table.sum(axis=1),\n",
    "    'COVID_Positive': contingency_table[True],\n",
    "    'Infection_Rate_%': infection_rates[True].round(2)\n",
    "}).sort_values('Infection_Rate_%', ascending=False)\n",
    "\n",
    "print(\"--- COVID-19 Infection Rates by Smoking Status ---\")\n",
    "print(infection_summary.to_string())"
   ]
  },
  {
   "cell_type": "markdown",
   "id": "d0bae665",
   "metadata": {},
   "source": [
    "### Visualise relationship"
   ]
  },
  {
   "cell_type": "code",
   "execution_count": null,
   "id": "7f3663f3",
   "metadata": {
    "lines_to_next_cell": 2
   },
   "outputs": [],
   "source": [
    "\n",
    "# Visualize the relationship\n",
    "fig, (ax1, ax2) = plt.subplots(1, 2, figsize=(15, 6))\n",
    "\n",
    "# Stacked bar chart\n",
    "contingency_table.plot(kind=\"bar\", stacked=True, ax=ax1, \n",
    "                      color=['lightblue', 'coral'], alpha=0.8)\n",
    "ax1.set_title(\"COVID-19 Cases by Smoking Status\", fontweight='bold', fontsize=12)\n",
    "ax1.set_ylabel(\"Number of Cases\")\n",
    "ax1.set_xlabel(\"Smoking Status\")\n",
    "ax1.legend(['Negative', 'Positive'], title='COVID-19 Status')\n",
    "ax1.tick_params(axis='x', rotation=45)\n",
    "\n",
    "# Infection rate bar chart\n",
    "infection_summary['Infection_Rate_%'].plot(kind='bar', ax=ax2, \n",
    "                                         color='crimson', alpha=0.7)\n",
    "ax2.set_title(\"COVID-19 Infection Rate by Smoking Status\", fontweight='bold', fontsize=12)\n",
    "ax2.set_ylabel(\"Infection Rate (%)\")\n",
    "ax2.set_xlabel(\"Smoking Status\")\n",
    "ax2.tick_params(axis='x', rotation=45)\n",
    "\n",
    "# Add sample size annotations\n",
    "for i, (idx, row) in enumerate(infection_summary.iterrows()):\n",
    "    ax2.annotate(f'n={row[\"Total_Cases\"]}', \n",
    "                xy=(i, row['Infection_Rate_%']), \n",
    "                xytext=(0, 3), textcoords='offset points',\n",
    "                ha='center', fontsize=9)\n",
    "\n",
    "plt.tight_layout()\n",
    "plt.show()"
   ]
  },
  {
   "cell_type": "markdown",
   "id": "f2f4845b",
   "metadata": {},
   "source": [
    "### Statistical significance testing - COVID-19 and Smoking Relationship"
   ]
  },
  {
   "cell_type": "markdown",
   "id": "9edfc3dc",
   "metadata": {},
   "source": [
    " Based on these findings, smoking status should be retained as a feature in our models, potentially with category consolidation for groups with small sample sizes."
   ]
  },
  {
   "cell_type": "code",
   "execution_count": null,
   "id": "8e980420",
   "metadata": {},
   "outputs": [],
   "source": [
    "chi2_stat, p_value, dof, expected = chi2_contingency(contingency_table)\n",
    "\n",
    "print(\"--- Statistical Analysis ---\")\n",
    "print(f\"Chi-squared statistic: {chi2_stat:.4f}\")\n",
    "print(f\"p-value: {p_value:.6f}\")\n",
    "print(f\"Degrees of freedom: {dof}\")\n",
    "\n",
    "if p_value < 0.05:\n",
    "    print(\"Statistically significant relationship detected\")\n",
    "else:\n",
    "    print(\"No statistically significant relationshi\")"
   ]
  },
  {
   "cell_type": "markdown",
   "id": "afdb8f39",
   "metadata": {},
   "source": [
    "### Find other relevant correlations between feature pairs in data set"
   ]
  },
  {
   "cell_type": "code",
   "execution_count": null,
   "id": "23822216",
   "metadata": {},
   "outputs": [],
   "source": [
    "\n",
    "# Visualize correlation matrix\n",
    "plt.figure(figsize=(12, 10))\n",
    "\n",
    "# Create correlation heatmap for key variables (including age_numeric if available)\n",
    "key_vars = ['age_numeric', 'height', 'weight', 'bmi', 'contacts_count', 'public_transport_count', \n",
    "           'worried', 'risk_infection', 'risk_mortality', 'covid19_positive',\n",
    "           'asthma', 'heart_disease', 'diabetes', 'compromised_immune']\n",
    "\n",
    "# Filter to available variables\n",
    "available_key_vars = [var for var in key_vars if var in df.columns]\n",
    "key_corr_matrix = df[available_key_vars].corr()\n",
    "\n",
    "print(f\"Correlation matrix includes {len(available_key_vars)} key variables\")\n",
    "\n",
    "# Create heatmap\n",
    "mask = np.triu(np.ones_like(key_corr_matrix, dtype=bool), k=1)\n",
    "sns.heatmap(key_corr_matrix, mask=mask, annot=True, cmap='RdBu_r', center=0,\n",
    "           square=True, linewidths=0.5, fmt='.3f', \n",
    "           cbar_kws={\"shrink\": 0.8})\n",
    "\n",
    "plt.title('Correlation Matrix: Key Variables', fontweight='bold', fontsize=14)\n",
    "plt.xticks(rotation=45, ha='right')\n",
    "plt.yticks(rotation=0)\n",
    "plt.tight_layout()\n",
    "plt.show()"
   ]
  },
  {
   "cell_type": "markdown",
   "id": "8d8fca9c",
   "metadata": {},
   "source": [
    "### Age-Stratified Analysis: COVID-19 Risk Patterns"
   ]
  },
  {
   "cell_type": "markdown",
   "id": "9b7cf7b5",
   "metadata": {},
   "source": [
    "To better understand risk factors, we examine how COVID-19 infection rates vary across age groups and smoking categories."
   ]
  },
  {
   "cell_type": "code",
   "execution_count": null,
   "id": "2ae1b5bb",
   "metadata": {
    "lines_to_next_cell": 2
   },
   "outputs": [],
   "source": [
    "# Create age_numeric if it doesn't already exist\n",
    "if 'age_numeric' not in df.columns:\n",
    "    age_mapping = {\n",
    "        '0_10': 5, '10_20': 15, '20_30': 25, '30_40': 35, '40_50': 45,\n",
    "        '50_60': 55, '60_70': 65, '70_80': 75, '80_90': 85, '90_plus': 95\n",
    "    }\n",
    "    df['age_numeric'] = df['age'].map(age_mapping)\n",
    "    print(\"Created age_numeric variable for analysis\")\n",
    "else:\n",
    "    print(\"Using existing age_numeric variable\")\n",
    "\n",
    "# Analyze infection rates by age group\n",
    "age_analysis = df.groupby('age').agg({\n",
    "    'covid19_positive': ['count', 'sum', 'mean'],\n",
    "    'risk_mortality': ['mean', 'std']\n",
    "}).round(4)\n",
    "\n",
    "age_analysis.columns = ['total_cases', 'covid_positive', 'infection_rate', \n",
    "                       'mean_mortality_risk', 'std_mortality_risk']\n",
    "age_analysis['infection_rate_pct'] = (age_analysis['infection_rate'] * 100).round(2)\n",
    "\n",
    "print(\"--- Age-Stratified COVID-19 Analysis ---\")\n",
    "print(age_analysis.to_string())"
   ]
  },
  {
   "cell_type": "markdown",
   "id": "6dad89bc",
   "metadata": {},
   "source": [
    "### Visualize age-related patterns"
   ]
  },
  {
   "cell_type": "code",
   "execution_count": null,
   "id": "eab4df38",
   "metadata": {},
   "outputs": [],
   "source": [
    "\n",
    "fig, (ax1, ax2) = plt.subplots(1, 2, figsize=(16, 6))\n",
    "\n",
    "# COVID-19 infection rates by age\n",
    "bars1 = ax1.bar(age_analysis.index, age_analysis['infection_rate_pct'], \n",
    "               color='crimson', alpha=0.7)\n",
    "ax1.set_title('COVID-19 Infection Rate by Age Group', fontweight='bold')\n",
    "ax1.set_xlabel('Age Group')\n",
    "ax1.set_ylabel('Infection Rate (%)')\n",
    "ax1.tick_params(axis='x', rotation=45)\n",
    "\n",
    "# Add sample size annotations\n",
    "for i, (idx, row) in enumerate(age_analysis.iterrows()):\n",
    "    total = int(row['total_cases'])\n",
    "    rate = row['infection_rate_pct']\n",
    "    ax1.annotate(f'n={total}', xy=(i, rate), xytext=(0, 3),\n",
    "                textcoords='offset points', ha='center', fontsize=9)\n",
    "\n",
    "# Mortality risk by age\n",
    "ax2.errorbar(x=range(len(age_analysis)), y=age_analysis['mean_mortality_risk'],\n",
    "            yerr=age_analysis['std_mortality_risk'], fmt='o-', capsize=5,\n",
    "            color='navy', linewidth=2, markersize=8)\n",
    "ax2.set_title('Mortality Risk by Age Group', fontweight='bold')\n",
    "ax2.set_xlabel('Age Group')\n",
    "ax2.set_ylabel('Mortality Risk (Mean ± SD)')\n",
    "ax2.set_xticks(range(len(age_analysis)))\n",
    "ax2.set_xticklabels(age_analysis.index, rotation=45)\n",
    "ax2.grid(True, alpha=0.3)\n",
    "\n",
    "plt.tight_layout()\n",
    "plt.show()"
   ]
  },
  {
   "cell_type": "markdown",
   "id": "573f77f8",
   "metadata": {},
   "source": [
    "### Correlation Analysis: COVID-19 Impact on Variable Relationships"
   ]
  },
  {
   "cell_type": "markdown",
   "id": "81512610",
   "metadata": {},
   "source": [
    "This part eamines how variable correlations differ between COVID-positive and COVID-negative populations to understand the disease's impact on risk factor relationships."
   ]
  },
  {
   "cell_type": "code",
   "execution_count": null,
   "id": "b1b96762",
   "metadata": {
    "lines_to_next_cell": 2
   },
   "outputs": [],
   "source": [
    "\n",
    "# Use key variables that are already processed for correlation analysis\n",
    "# Focus on the most important variables identified in previous sections\n",
    "analysis_vars = ['age_numeric', 'height', 'weight', 'bmi', 'contacts_count', \n",
    "                'public_transport_count', 'worried', 'risk_mortality',\n",
    "                'asthma', 'heart_disease', 'diabetes', 'compromised_immune',\n",
    "                'health_worker', 'nursing_home']\n",
    "\n",
    "# Filter to variables that actually exist in our dataframe\n",
    "available_analysis_vars = [var for var in analysis_vars if var in df.columns]\n",
    "\n",
    "# Split data by COVID status using the cleaned dataframe\n",
    "covid_positive_subset = df[df['covid19_positive'] == True][available_analysis_vars]\n",
    "covid_negative_subset = df[df['covid19_positive'] == False][available_analysis_vars]\n",
    "\n",
    "print(\"--- Correlation Analysis: COVID Impact ---\")\n",
    "print(f\"COVID-positive cases: {len(covid_positive_subset)}\")\n",
    "print(f\"COVID-negative cases: {len(covid_negative_subset)}\")\n",
    "print(f\"Available variables: {', '.join(available_analysis_vars)}\")"
   ]
  },
  {
   "cell_type": "code",
   "execution_count": null,
   "id": "fe080870",
   "metadata": {
    "lines_to_next_cell": 3
   },
   "outputs": [],
   "source": [
    "# Calculate correlation differences\n",
    "corr_positive = covid_positive_subset.corr()\n",
    "corr_negative = covid_negative_subset.corr()\n",
    "corr_difference = corr_positive - corr_negative\n",
    "\n",
    "# Create visualization\n",
    "plt.figure(figsize=(12, 10))\n",
    "sns.heatmap(corr_difference, annot=True, cmap='RdBu_r', center=0, \n",
    "           square=True, linewidths=0.5, fmt='.3f',\n",
    "           cbar_kws={\"label\": \"Correlation Difference\\n(COVID+ minus COVID-)\"})\n",
    "\n",
    "plt.title('Impact of COVID-19 on Variable Correlations\\n(Positive - Negative Difference)', \n",
    "         fontweight='bold', fontsize=14)\n",
    "plt.xticks(rotation=45, ha='right')\n",
    "plt.yticks(rotation=0)\n",
    "plt.tight_layout()\n",
    "plt.show()\n",
    "\n",
    "# Identify largest correlation changes\n",
    "mask = np.triu(np.ones_like(corr_difference, dtype=bool), k=1)\n",
    "upper_triangle = corr_difference.where(mask)\n",
    "\n",
    "largest_changes = []\n",
    "for col in upper_triangle.columns:\n",
    "    for idx in upper_triangle.index:\n",
    "        if not pd.isna(upper_triangle.loc[idx, col]) and abs(upper_triangle.loc[idx, col]) > 0.1:\n",
    "            largest_changes.append({\n",
    "                'Variable_Pair': f\"{idx} - {col}\",\n",
    "                'Correlation_Change': upper_triangle.loc[idx, col]\n",
    "            })\n",
    "\n",
    "if largest_changes:\n",
    "    changes_df = pd.DataFrame(largest_changes).sort_values('Correlation_Change', \n",
    "                                                          key=abs, ascending=False)\n",
    "    print(\"--- Largest Correlation Changes Due to COVID-19 ---\")\n",
    "    print(changes_df.to_string(index=False))"
   ]
  }
 ],
 "metadata": {
  "jupytext": {
   "cell_metadata_filter": "-all",
   "encoding": "# coding: utf-8",
   "executable": "/usr/bin/env python",
   "main_language": "python",
   "notebook_metadata_filter": "-all"
  },
  "language_info": {
   "name": "python"
  }
 },
 "nbformat": 4,
 "nbformat_minor": 5
}
