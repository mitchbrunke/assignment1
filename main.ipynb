{
 "cells": [
  {
   "cell_type": "markdown",
   "metadata": {},
   "source": [
    "# Introduction (DRAFT)\n",
    "\n",
    "In this document, we attempt to establish a direct correlation between the risk of COVID-19 infection, mortality, and smoking by exploring the Nexoid COVID-19 medical dataset. Additionally, we identify other insights and trends that provide a more nuanced overview of the subject, including the impact of pre-existing health conditions and lifestyle factors.\n",
    "\n",
    "### References\n",
    "- ?"
   ]
  },
  {
   "cell_type": "markdown",
   "metadata": {},
   "source": [
    "# Data Type Corrections for Medical Dataset"
   ]
  },
  {
   "cell_type": "markdown",
   "metadata": {},
   "source": [
    "## Import Required Libraries"
   ]
  },
  {
   "cell_type": "code",
   "execution_count": 1,
   "metadata": {},
   "outputs": [
    {
     "name": "stderr",
     "output_type": "stream",
     "text": [
      "Matplotlib is building the font cache; this may take a moment.\n"
     ]
    }
   ],
   "source": [
    "import pandas as pd\n",
    "import numpy as np\n",
    "import matplotlib.pyplot as plt\n",
    "import seaborn as sns\n",
    "from datetime import datetime\n",
    "import warnings\n",
    "from pandas.api.types import CategoricalDtype\n",
    "\n",
    "warnings.filterwarnings(\"ignore\")"
   ]
  },
  {
   "cell_type": "markdown",
   "metadata": {},
   "source": [
    "## Load and Display Initial Data"
   ]
  },
  {
   "cell_type": "code",
   "execution_count": 8,
   "metadata": {},
   "outputs": [
    {
     "name": "stdout",
     "output_type": "stream",
     "text": [
      "--- Initial Data Types ---\n",
      "survey_date                object\n",
      "region                     object\n",
      "country                    object\n",
      "ip_latitude               float64\n",
      "ip_longitude              float64\n",
      "gender                     object\n",
      "age                        object\n",
      "height                      int64\n",
      "weight                      int64\n",
      "bmi                       float64\n",
      "blood_type                 object\n",
      "insurance                  object\n",
      "income                     object\n",
      "smoking                    object\n",
      "alcohol                   float64\n",
      "cocaine                   float64\n",
      "contacts_count            float64\n",
      "public_transport_count    float64\n",
      "working                    object\n",
      "worried                   float64\n",
      "covid19_positive            int64\n",
      "covid19_symptoms            int64\n",
      "covid19_contact             int64\n",
      "asthma                      int64\n",
      "kidney_disease              int64\n",
      "liver_disease               int64\n",
      "compromised_immune          int64\n",
      "heart_disease               int64\n",
      "lung_disease                int64\n",
      "diabetes                    int64\n",
      "hiv_positive                int64\n",
      "other_chronic               int64\n",
      "nursing_home                int64\n",
      "health_worker               int64\n",
      "risk_infection            float64\n",
      "risk_mortality            float64\n",
      "dtype: object\n"
     ]
    }
   ],
   "source": [
    "# Load the dataset\n",
    "df = pd.read_csv(\"medical-dataset.csv\")\n",
    "\n",
    "print(\"--- Initial Data Types ---\")\n",
    "print(df.dtypes)"
   ]
  },
  {
   "cell_type": "code",
   "execution_count": 9,
   "metadata": {},
   "outputs": [
    {
     "name": "stdout",
     "output_type": "stream",
     "text": [
      "Data type of 'insurance' column: object\n",
      "Number of missing values in 'insurance' column: 1292\n",
      "First few rows of 'insurance' column:\n",
      "0    yes\n",
      "1    yes\n",
      "2    yes\n",
      "3    yes\n",
      "4    yes\n",
      "Name: insurance, dtype: object\n",
      "Last few rows of 'insurance' column:\n",
      "5784    NaN\n",
      "5785    NaN\n",
      "5786    NaN\n",
      "5787    NaN\n",
      "5788    NaN\n",
      "Name: insurance, dtype: object\n"
     ]
    }
   ],
   "source": [
    "# Check data type of 'insurance' column\n",
    "print(\"Data type of 'insurance' column:\", df['insurance'].dtype)\n",
    "\n",
    "# Check for missing values\n",
    "print(\"Number of missing values in 'insurance' column:\", df['insurance'].isnull().sum())\n",
    "\n",
    "# Display the first few rows of the 'insurance' column\n",
    "print(\"First few rows of 'insurance' column:\")\n",
    "print(df['insurance'].head())\n",
    "\n",
    "# Display the last few rows of 'insurance' column\n",
    "print(\"Last few rows of 'insurance' column:\")\n",
    "print(df['insurance'].tail())"
   ]
  },
  {
   "cell_type": "code",
   "execution_count": 10,
   "metadata": {},
   "outputs": [
    {
     "data": {
      "text/plain": [
       "insurance\n",
       "yes      3544\n",
       "no        622\n",
       "blank     331\n",
       "Name: count, dtype: int64"
      ]
     },
     "execution_count": 10,
     "metadata": {},
     "output_type": "execute_result"
    }
   ],
   "source": [
    "df['insurance'].value_counts()"
   ]
  },
  {
   "cell_type": "markdown",
   "metadata": {},
   "source": [
    "## Task 1: Data Type Corrections\n",
    "\n",
    "We'll now implement the necessary data type corrections for each variable in the dataset."
   ]
  },
  {
   "cell_type": "markdown",
   "metadata": {},
   "source": [
    "### 1. Date Conversion"
   ]
  },
  {
   "cell_type": "code",
   "execution_count": 11,
   "metadata": {},
   "outputs": [],
   "source": [
    "def convert_date(date_str):\n",
    "    if pd.isna(date_str):\n",
    "        return pd.NaT\n",
    "    try:\n",
    "        for fmt in ['%Y-%m-%d %H:%M:%S', '%d/%m/%Y', '%Y-%m-%d']:\n",
    "            try:\n",
    "                return pd.to_datetime(date_str, format=fmt)\n",
    "            except:\n",
    "                continue\n",
    "        return pd.to_datetime(date_str, infer_datetime_format=True)\n",
    "    except:\n",
    "        return pd.NaT\n",
    "\n",
    "df['survey_date'] = df['survey_date'].apply(convert_date)"
   ]
  },
  {
   "cell_type": "markdown",
   "metadata": {},
   "source": [
    "### 2. Age - Convert to Ordered Categorical"
   ]
  },
  {
   "cell_type": "code",
   "execution_count": 12,
   "metadata": {},
   "outputs": [
    {
     "name": "stdout",
     "output_type": "stream",
     "text": [
      "Age Categories:\n",
      "Index(['0_10', '10_20', '20_30', '30_40', '40_50', '50_60', '60_70', '70_80',\n",
      "       '80_90', '90_plus'],\n",
      "      dtype='object')\n",
      "\n",
      "Age Value Counts:\n"
     ]
    },
    {
     "data": {
      "text/plain": [
       "age\n",
       "0_10         14\n",
       "10_20       205\n",
       "20_30       996\n",
       "30_40      1412\n",
       "40_50      1111\n",
       "50_60       926\n",
       "60_70       765\n",
       "70_80       354\n",
       "80_90         0\n",
       "90_plus       6\n",
       "Name: count, dtype: int64"
      ]
     },
     "execution_count": 12,
     "metadata": {},
     "output_type": "execute_result"
    }
   ],
   "source": [
    "df['age'] = df['age'].replace(\"100_110\", \"90_plus\")\n",
    "age_order = ['0_10', '10_20', '20_30', '30_40', '40_50', '50_60', \n",
    "             '60_70', '70_80', '80_90', '90_plus']\n",
    "age_dtype = pd.api.types.CategoricalDtype(categories=age_order, ordered=True)\n",
    "df['age'] = df['age'].astype(age_dtype)\n",
    "\n",
    "# Display age categories and their counts\n",
    "print(\"Age Categories:\")\n",
    "print(df['age'].cat.categories)\n",
    "print(\"\\nAge Value Counts:\")\n",
    "df['age'].value_counts(sort=False)"
   ]
  },
  {
   "cell_type": "markdown",
   "metadata": {},
   "source": [
    "### 3. Gender - Convert to Nominal Categorical"
   ]
  },
  {
   "cell_type": "code",
   "execution_count": 13,
   "metadata": {},
   "outputs": [
    {
     "name": "stdout",
     "output_type": "stream",
     "text": [
      "Gender Categories:\n"
     ]
    },
    {
     "data": {
      "text/plain": [
       "gender\n",
       "male      2985\n",
       "female    2790\n",
       "other       14\n",
       "Name: count, dtype: int64"
      ]
     },
     "execution_count": 13,
     "metadata": {},
     "output_type": "execute_result"
    }
   ],
   "source": [
    "df['gender'] = df['gender'].astype('category')\n",
    "print(\"Gender Categories:\")\n",
    "df['gender'].value_counts()\n"
   ]
  },
  {
   "cell_type": "markdown",
   "metadata": {},
   "source": [
    "### 4. Region and Country - Convert to Categorical with 'Unknown'"
   ]
  },
  {
   "cell_type": "code",
   "execution_count": 14,
   "metadata": {},
   "outputs": [
    {
     "name": "stdout",
     "output_type": "stream",
     "text": [
      "\n",
      "Region Categories:\n",
      "region\n",
      "Unknown    4227\n",
      "EU          801\n",
      "SA          399\n",
      "AS          206\n",
      "AF           79\n",
      "OC           77\n",
      "Name: count, dtype: int64\n",
      "\n",
      "Country Categories:\n",
      "country\n",
      "US    3885\n",
      "GB     365\n",
      "BR     270\n",
      "CA     208\n",
      "MX      94\n",
      "      ... \n",
      "BS       1\n",
      "BM       1\n",
      "AZ       1\n",
      "AW       1\n",
      "JE       1\n",
      "Name: count, Length: 95, dtype: int64\n"
     ]
    }
   ],
   "source": [
    "for col in ['region', 'country']:\n",
    "    df[col] = df[col].astype('category')\n",
    "    if 'Unknown' not in df[col].cat.categories:\n",
    "        df[col] = df[col].cat.add_categories('Unknown')\n",
    "    df[col] = df[col].fillna('Unknown')\n",
    "    \n",
    "    print(f\"\\n{col.capitalize()} Categories:\")\n",
    "    print(df[col].value_counts())"
   ]
  },
  {
   "cell_type": "markdown",
   "metadata": {},
   "source": [
    "### 5. Height and Weight - Convert to Integer"
   ]
  },
  {
   "cell_type": "code",
   "execution_count": 15,
   "metadata": {},
   "outputs": [
    {
     "name": "stdout",
     "output_type": "stream",
     "text": [
      "Height Summary:\n",
      "count        5789.0\n",
      "mean     172.030057\n",
      "std         10.9176\n",
      "min           110.0\n",
      "25%           164.0\n",
      "50%           172.0\n",
      "75%           180.0\n",
      "max           238.0\n",
      "Name: height, dtype: Float64\n",
      "\n",
      "Weight Summary:\n",
      "count       5789.0\n",
      "mean     84.773881\n",
      "std        23.5763\n",
      "min           44.0\n",
      "25%           68.0\n",
      "50%           82.0\n",
      "75%           96.0\n",
      "max          180.0\n",
      "Name: weight, dtype: Float64\n"
     ]
    }
   ],
   "source": [
    "df['height'] = df['height'].astype('Int64')  # Using Int64 to handle NaN values\n",
    "df['weight'] = df['weight'].astype('Int64')\n",
    "\n",
    "print(\"Height Summary:\")\n",
    "print(df['height'].describe())\n",
    "print(\"\\nWeight Summary:\")\n",
    "print(df['weight'].describe())"
   ]
  },
  {
   "cell_type": "markdown",
   "metadata": {},
   "source": [
    "### 6. BMI - Keep as Float"
   ]
  },
  {
   "cell_type": "code",
   "execution_count": 16,
   "metadata": {},
   "outputs": [
    {
     "name": "stdout",
     "output_type": "stream",
     "text": [
      "BMI Summary:\n"
     ]
    },
    {
     "data": {
      "text/plain": [
       "count    5789.000000\n",
       "mean       28.570116\n",
       "std         7.674528\n",
       "min        11.900000\n",
       "25%        23.500000\n",
       "50%        26.800000\n",
       "75%        31.800000\n",
       "max       125.000000\n",
       "Name: bmi, dtype: float64"
      ]
     },
     "execution_count": 16,
     "metadata": {},
     "output_type": "execute_result"
    }
   ],
   "source": [
    "df['bmi'] = df['bmi'].astype('float64')\n",
    "print(\"BMI Summary:\")\n",
    "df['bmi'].describe()"
   ]
  },
  {
   "cell_type": "markdown",
   "metadata": {},
   "source": [
    "### 7. Blood Type - Convert to Categorical with 'Unknown'"
   ]
  },
  {
   "cell_type": "code",
   "execution_count": 17,
   "metadata": {},
   "outputs": [
    {
     "name": "stdout",
     "output_type": "stream",
     "text": [
      "Blood Type Categories:\n"
     ]
    },
    {
     "data": {
      "text/plain": [
       "blood_type\n",
       "unknown    1784\n",
       "ap         1279\n",
       "op         1251\n",
       "on          417\n",
       "bp          394\n",
       "an          244\n",
       "abp         191\n",
       "Unknown     100\n",
       "bn           91\n",
       "abn          38\n",
       "Name: count, dtype: int64"
      ]
     },
     "execution_count": 17,
     "metadata": {},
     "output_type": "execute_result"
    }
   ],
   "source": [
    "df['blood_type'] = df['blood_type'].astype('category')\n",
    "if 'Unknown' not in df['blood_type'].cat.categories:\n",
    "    df['blood_type'] = df['blood_type'].cat.add_categories('Unknown')\n",
    "df['blood_type'] = df['blood_type'].fillna('Unknown')\n",
    "\n",
    "print(\"Blood Type Categories:\")\n",
    "df['blood_type'].value_counts()"
   ]
  },
  {
   "cell_type": "markdown",
   "metadata": {},
   "source": [
    "### 8. Insurance - Convert to Boolean with NA for Blank and Unknown"
   ]
  },
  {
   "cell_type": "code",
   "execution_count": 18,
   "metadata": {},
   "outputs": [
    {
     "name": "stdout",
     "output_type": "stream",
     "text": [
      "Insurance Value Counts:\n"
     ]
    },
    {
     "data": {
      "text/plain": [
       "insurance\n",
       "True     3544\n",
       "False     622\n",
       "Name: count, dtype: int64"
      ]
     },
     "execution_count": 18,
     "metadata": {},
     "output_type": "execute_result"
    }
   ],
   "source": [
    "df['insurance'] = df['insurance'].str.title()\n",
    "df['insurance'] = df['insurance'].map({'Yes': True, 'No': False, 'Blank': pd.NA, 'Unknown': pd.NA})\n",
    "print(\"Insurance Value Counts:\")\n",
    "df['insurance'].value_counts()"
   ]
  },
  {
   "cell_type": "markdown",
   "metadata": {},
   "source": [
    "### 9. Income - Convert to Categorical"
   ]
  },
  {
   "cell_type": "code",
   "execution_count": 19,
   "metadata": {},
   "outputs": [
    {
     "name": "stdout",
     "output_type": "stream",
     "text": [
      "Income Categories:\n"
     ]
    },
    {
     "data": {
      "text/plain": [
       "income\n",
       "med      2142\n",
       "high     1886\n",
       "low       398\n",
       "blank     122\n",
       "gov        88\n",
       "Name: count, dtype: int64"
      ]
     },
     "execution_count": 19,
     "metadata": {},
     "output_type": "execute_result"
    }
   ],
   "source": [
    "df['income'] = df['income'].astype('category')\n",
    "print(\"Income Categories:\")\n",
    "df['income'].value_counts()"
   ]
  },
  {
   "cell_type": "markdown",
   "metadata": {},
   "source": [
    "### 10. Smoking - Convert to Categorical with Bins"
   ]
  },
  {
   "cell_type": "code",
   "execution_count": 20,
   "metadata": {},
   "outputs": [
    {
     "name": "stdout",
     "output_type": "stream",
     "text": [
      "Smoking Categories:\n"
     ]
    },
    {
     "data": {
      "text/plain": [
       "smoking\n",
       "Never Smoked     3713\n",
       "Former Smoker    1277\n",
       "Vape User         247\n",
       "yesmedium         230\n",
       "yeslight          206\n",
       "Heavy Smoker       80\n",
       "Name: count, dtype: int64"
      ]
     },
     "execution_count": 20,
     "metadata": {},
     "output_type": "execute_result"
    }
   ],
   "source": [
    "smoking_bins = {\n",
    "    'quit0': 'Former Smoker',\n",
    "    'quit5': 'Former Smoker',\n",
    "    'quit10': 'Former Smoker',\n",
    "    'vape': 'Vape User',\n",
    "    'yesheavy': 'Heavy Smoker',\n",
    "    'light': 'Light Smoker',\n",
    "    'medium': 'Medium Smoker',\n",
    "    'never': 'Never Smoked',\n",
    "    -1: 'Unknown'\n",
    "}\n",
    "df['smoking'] = df['smoking'].replace(smoking_bins)\n",
    "df['smoking'] = df['smoking'].astype('category')\n",
    "\n",
    "print(\"Smoking Categories:\")\n",
    "df['smoking'].value_counts()"
   ]
  },
  {
   "cell_type": "markdown",
   "metadata": {},
   "source": [
    "### 11. Alcohol - Convert to Categorical Ordinal"
   ]
  },
  {
   "cell_type": "code",
   "execution_count": 22,
   "metadata": {},
   "outputs": [
    {
     "name": "stdout",
     "output_type": "stream",
     "text": [
      "Alcohol Categories:\n"
     ]
    },
    {
     "data": {
      "text/plain": [
       "alcohol\n",
       "Unknown    1920\n",
       "0.0        1275\n",
       "1.0         612\n",
       "2.0         466\n",
       "3.0         310\n",
       "4.0         247\n",
       "5.0         194\n",
       "7.0         166\n",
       "14.0        117\n",
       "10.0        108\n",
       "6.0          86\n",
       "13.0         72\n",
       "12.0         64\n",
       "8.0          48\n",
       "9.0          39\n",
       "11.0         27\n",
       "Name: count, dtype: int64"
      ]
     },
     "execution_count": 22,
     "metadata": {},
     "output_type": "execute_result"
    }
   ],
   "source": [
    "df['alcohol'] = df['alcohol'].replace(-1, 'Unknown')\n",
    "df['alcohol'] = df['alcohol'].astype('category')\n",
    "\n",
    "print(\"Alcohol Categories:\")\n",
    "df['alcohol'].value_counts()"
   ]
  },
  {
   "cell_type": "markdown",
   "metadata": {},
   "source": [
    "### 12. Cocaine - Convert to Categorical with Unknown"
   ]
  },
  {
   "cell_type": "code",
   "execution_count": 21,
   "metadata": {},
   "outputs": [
    {
     "name": "stdout",
     "output_type": "stream",
     "text": [
      "Cocaine Categories:\n"
     ]
    },
    {
     "data": {
      "text/plain": [
       "cocaine\n",
       "Unknown    1078\n",
       "0.0         228\n",
       "1.0          33\n",
       "2.0          17\n",
       "5.0          14\n",
       "4.0          12\n",
       "3.0          12\n",
       "7.0           7\n",
       "9.0           5\n",
       "28.0          4\n",
       "10.0          3\n",
       "20.0          3\n",
       "27.0          3\n",
       "6.0           2\n",
       "16.0          2\n",
       "23.0          2\n",
       "25.0          1\n",
       "15.0          1\n",
       "22.0          1\n",
       "21.0          1\n",
       "14.0          1\n",
       "Name: count, dtype: int64"
      ]
     },
     "execution_count": 21,
     "metadata": {},
     "output_type": "execute_result"
    }
   ],
   "source": [
    "df['cocaine'] = df['cocaine'].replace(-1, 'Unknown')\n",
    "df['cocaine'] = df['cocaine'].astype('category')\n",
    "\n",
    "print(\"Cocaine Categories:\")\n",
    "df['cocaine'].value_counts()"
   ]
  },
  {
   "cell_type": "markdown",
   "metadata": {},
   "source": [
    "### 13. Contact Counts - Convert to Int64"
   ]
  },
  {
   "cell_type": "code",
   "execution_count": 23,
   "metadata": {},
   "outputs": [
    {
     "name": "stdout",
     "output_type": "stream",
     "text": [
      "Contacts Count Summary:\n",
      "count      5747.0\n",
      "mean     7.828432\n",
      "std      6.672943\n",
      "min           0.0\n",
      "25%           3.0\n",
      "50%           5.0\n",
      "75%          10.0\n",
      "max          21.0\n",
      "Name: contacts_count, dtype: Float64\n",
      "\n",
      "Public Transport Count Summary:\n",
      "count      4572.0\n",
      "mean     0.415573\n",
      "std      1.811049\n",
      "min           0.0\n",
      "25%           0.0\n",
      "50%           0.0\n",
      "75%           0.0\n",
      "max          15.0\n",
      "Name: public_transport_count, dtype: Float64\n"
     ]
    }
   ],
   "source": [
    "df['contacts_count'] = df['contacts_count'].astype('Int64')\n",
    "df['public_transport_count'] = df['public_transport_count'].astype('Int64')\n",
    "\n",
    "print(\"Contacts Count Summary:\")\n",
    "print(df['contacts_count'].describe())\n",
    "print(\"\\nPublic Transport Count Summary:\")\n",
    "print(df['public_transport_count'].describe())"
   ]
  },
  {
   "cell_type": "markdown",
   "metadata": {},
   "source": [
    "### 14. Working - Convert to Categorical"
   ]
  },
  {
   "cell_type": "code",
   "execution_count": null,
   "metadata": {},
   "outputs": [],
   "source": [
    "df['working'] = df['working'].astype('category')\n",
    "print(\"Working Status Categories:\")\n",
    "df['working'].value_counts()"
   ]
  },
  {
   "cell_type": "markdown",
   "metadata": {},
   "source": [
    "### 15. Worried - Convert to Integer"
   ]
  },
  {
   "cell_type": "code",
   "execution_count": 24,
   "metadata": {},
   "outputs": [
    {
     "name": "stdout",
     "output_type": "stream",
     "text": [
      "Worried Level Summary:\n"
     ]
    },
    {
     "data": {
      "text/plain": [
       "count      4518.0\n",
       "mean     3.530987\n",
       "std      0.792812\n",
       "min           1.0\n",
       "25%           3.0\n",
       "50%           4.0\n",
       "75%           4.0\n",
       "max           5.0\n",
       "Name: worried, dtype: Float64"
      ]
     },
     "execution_count": 24,
     "metadata": {},
     "output_type": "execute_result"
    }
   ],
   "source": [
    "df['worried'] = df['worried'].astype('Int64')\n",
    "print(\"Worried Level Summary:\")\n",
    "df['worried'].describe()"
   ]
  },
  {
   "cell_type": "markdown",
   "metadata": {},
   "source": [
    "### 16. Health Conditions - Convert to Boolean"
   ]
  },
  {
   "cell_type": "code",
   "execution_count": 25,
   "metadata": {},
   "outputs": [
    {
     "name": "stdout",
     "output_type": "stream",
     "text": [
      "Health Conditions Summary:\n",
      "\n",
      "covid19_positive:\n",
      "covid19_positive\n",
      "False    3454\n",
      "True     2335\n",
      "Name: count, dtype: int64\n",
      "\n",
      "covid19_symptoms:\n",
      "covid19_symptoms\n",
      "False    4792\n",
      "True      997\n",
      "Name: count, dtype: int64\n",
      "\n",
      "covid19_contact:\n",
      "covid19_contact\n",
      "False    4800\n",
      "True      989\n",
      "Name: count, dtype: int64\n",
      "\n",
      "asthma:\n",
      "asthma\n",
      "False    5032\n",
      "True      757\n",
      "Name: count, dtype: int64\n",
      "\n",
      "kidney_disease:\n",
      "kidney_disease\n",
      "False    5726\n",
      "True       63\n",
      "Name: count, dtype: int64\n",
      "\n",
      "liver_disease:\n",
      "liver_disease\n",
      "False    5745\n",
      "True       44\n",
      "Name: count, dtype: int64\n",
      "\n",
      "compromised_immune:\n",
      "compromised_immune\n",
      "False    5444\n",
      "True      345\n",
      "Name: count, dtype: int64\n",
      "\n",
      "heart_disease:\n",
      "heart_disease\n",
      "False    5607\n",
      "True      182\n",
      "Name: count, dtype: int64\n",
      "\n",
      "lung_disease:\n",
      "lung_disease\n",
      "False    5654\n",
      "True      135\n",
      "Name: count, dtype: int64\n",
      "\n",
      "diabetes:\n",
      "diabetes\n",
      "False    5320\n",
      "True      469\n",
      "Name: count, dtype: int64\n",
      "\n",
      "hiv_positive:\n",
      "hiv_positive\n",
      "False    5766\n",
      "True       23\n",
      "Name: count, dtype: int64\n",
      "\n",
      "other_chronic:\n",
      "other_chronic\n",
      "False    5411\n",
      "True      378\n",
      "Name: count, dtype: int64\n",
      "\n",
      "nursing_home:\n",
      "nursing_home\n",
      "False    5768\n",
      "True       21\n",
      "Name: count, dtype: int64\n",
      "\n",
      "health_worker:\n",
      "health_worker\n",
      "False    5299\n",
      "True      490\n",
      "Name: count, dtype: int64\n"
     ]
    }
   ],
   "source": [
    "health_conditions = [\n",
    "    'covid19_positive', 'covid19_symptoms', 'covid19_contact',\n",
    "    'asthma', 'kidney_disease', 'liver_disease', 'compromised_immune',\n",
    "    'heart_disease', 'lung_disease', 'diabetes', 'hiv_positive',\n",
    "    'other_chronic', 'nursing_home', 'health_worker'\n",
    "]\n",
    "\n",
    "for col in health_conditions:\n",
    "    df[col] = df[col].astype('bool')\n",
    "    \n",
    "print(\"Health Conditions Summary:\")\n",
    "for col in health_conditions:\n",
    "    print(f\"\\n{col}:\")\n",
    "    print(df[col].value_counts())"
   ]
  },
  {
   "cell_type": "markdown",
   "metadata": {},
   "source": [
    "### 17. Risk Values - Convert to Float and Normalize"
   ]
  },
  {
   "cell_type": "code",
   "execution_count": 26,
   "metadata": {},
   "outputs": [
    {
     "name": "stdout",
     "output_type": "stream",
     "text": [
      "Risk Infection Summary:\n",
      "count    5789.000000\n",
      "mean        0.509772\n",
      "std         0.440276\n",
      "min         0.050000\n",
      "25%         0.050000\n",
      "50%         0.370000\n",
      "75%         1.000000\n",
      "max         1.000000\n",
      "Name: risk_infection, dtype: float64\n",
      "\n",
      "Risk Mortality Summary:\n",
      "count    5789.000000\n",
      "mean        0.005623\n",
      "std         0.010778\n",
      "min         0.000500\n",
      "25%         0.000500\n",
      "50%         0.001560\n",
      "75%         0.005990\n",
      "max         0.286980\n",
      "Name: risk_mortality, dtype: float64\n"
     ]
    }
   ],
   "source": [
    "df['risk_infection'] = df['risk_infection'].astype('float64') / 100\n",
    "df['risk_mortality'] = df['risk_mortality'].astype('float64') / 100\n",
    "\n",
    "print(\"Risk Infection Summary:\")\n",
    "print(df['risk_infection'].describe())\n",
    "print(\"\\nRisk Mortality Summary:\")\n",
    "print(df['risk_mortality'].describe())"
   ]
  },
  {
   "cell_type": "markdown",
   "metadata": {},
   "source": [
    "### 18. Drop longitude and latitude due to no meaningful significance"
   ]
  },
  {
   "cell_type": "code",
   "execution_count": 27,
   "metadata": {},
   "outputs": [],
   "source": [
    "df.drop(columns=['ip_longitude', 'ip_latitude'], inplace=True)"
   ]
  },
  {
   "cell_type": "markdown",
   "metadata": {},
   "source": [
    "## Final Data Types Check"
   ]
  },
  {
   "cell_type": "code",
   "execution_count": 28,
   "metadata": {},
   "outputs": [
    {
     "name": "stdout",
     "output_type": "stream",
     "text": [
      "Final Data Types:\n"
     ]
    },
    {
     "data": {
      "text/plain": [
       "survey_date               datetime64[ns]\n",
       "region                          category\n",
       "country                         category\n",
       "gender                          category\n",
       "age                             category\n",
       "height                             Int64\n",
       "weight                             Int64\n",
       "bmi                              float64\n",
       "blood_type                      category\n",
       "insurance                         object\n",
       "income                          category\n",
       "smoking                         category\n",
       "alcohol                         category\n",
       "cocaine                         category\n",
       "contacts_count                     Int64\n",
       "public_transport_count             Int64\n",
       "working                           object\n",
       "worried                            Int64\n",
       "covid19_positive                    bool\n",
       "covid19_symptoms                    bool\n",
       "covid19_contact                     bool\n",
       "asthma                              bool\n",
       "kidney_disease                      bool\n",
       "liver_disease                       bool\n",
       "compromised_immune                  bool\n",
       "heart_disease                       bool\n",
       "lung_disease                        bool\n",
       "diabetes                            bool\n",
       "hiv_positive                        bool\n",
       "other_chronic                       bool\n",
       "nursing_home                        bool\n",
       "health_worker                       bool\n",
       "risk_infection                   float64\n",
       "risk_mortality                   float64\n",
       "dtype: object"
      ]
     },
     "execution_count": 28,
     "metadata": {},
     "output_type": "execute_result"
    }
   ],
   "source": [
    "print(\"Final Data Types:\")\n",
    "df.dtypes"
   ]
  },
  {
   "cell_type": "markdown",
   "metadata": {},
   "source": [
    "## Task 2 - Data Preparation - Identify issues and clean/transform"
   ]
  },
  {
   "cell_type": "markdown",
   "metadata": {},
   "source": [
    "### 1. Identify Skewness in Numerical Variables"
   ]
  },
  {
   "cell_type": "code",
   "execution_count": null,
   "metadata": {},
   "outputs": [],
   "source": [
    "numerical_cols = df.select_dtypes(include=[np.number]).columns\n",
    "skewness_results = {}\n",
    "\n",
    "for col in numerical_cols:\n",
    "    if col in df.columns:\n",
    "        skewness = df[col].skew()\n",
    "        skewness_results[col] = skewness\n",
    "        print(f\"{col}: {skewness:.3f}\")\n",
    "\n",
    "# Visualize distributions\n",
    "plt.figure(figsize=(15, 10))\n",
    "for i, col in enumerate(['height', 'weight', 'bmi', 'contacts_count', 'public_transport_count', 'worried', 'risk_infection', 'risk_mortality'], 1):\n",
    "    plt.subplot(4, 2, i)\n",
    "    df[col].hist(bins=30)\n",
    "    plt.title(f'Distribution of {col} (Skewness: {df[col].skew():.3f})')\n",
    "    plt.xlabel(col)\n",
    "    plt.ylabel('Frequency')\n",
    "plt.tight_layout()\n",
    "plt.show()"
   ]
  },
  {
   "cell_type": "markdown",
   "metadata": {},
   "source": [
    "### 2. Identify Missing Values and Errors"
   ]
  },
  {
   "cell_type": "code",
   "execution_count": null,
   "metadata": {},
   "outputs": [],
   "source": [
    "print(\"Checking Missing Values in Each Column:\")\n",
    "missing_values = df.isnull().sum()\n",
    "print(missing_values[missing_values > 0])"
   ]
  },
  {
   "cell_type": "code",
   "execution_count": null,
   "metadata": {},
   "outputs": [],
   "source": [
    "print(\"Visualise the missing data...\")\n",
    "plt.figure(figsize=(10, 6))\n",
    "sns.heatmap(df.isnull(), cbar=False)\n",
    "plt.title('Missing Values Heatmap')\n",
    "plt.show()\n"
   ]
  },
  {
   "cell_type": "code",
   "execution_count": null,
   "metadata": {},
   "outputs": [],
   "source": [
    "# Again as histogram\n",
    "print(df.isnull().sum())\n",
    "\n",
    "# Plotting missing values\n",
    "missing_counts = df.isnull().sum()\n",
    "missing_counts = missing_counts[missing_counts > 0] # Only plot columns with missing values\n",
    "plt.figure(figsize=(10, 6))\n",
    "sns.barplot(x=missing_counts.index, y=missing_counts.values)\n",
    "plt.xticks(rotation=45, ha='right')\n",
    "plt.title('Count of Missing Values per Column')\n",
    "plt.ylabel('Number of Missing Values')\n",
    "plt.tight_layout()\n",
    "plt.show()\n"
   ]
  },
  {
   "cell_type": "code",
   "execution_count": null,
   "metadata": {},
   "outputs": [],
   "source": [
    "print(\"Potential Anomalies in Numerical Data:\")\n",
    "for col in ['height', 'weight', 'bmi', 'public_transport_count']:\n",
    "    print(f\"\\n{col} - Outliers based on IQR:\")\n",
    "    Q1 = df[col].quantile(0.25)\n",
    "    Q3 = df[col].quantile(0.75)\n",
    "    IQR = Q3 - Q1\n",
    "    lower_bound = Q1 - 1.5 * IQR\n",
    "    upper_bound = Q3 + 1.5 * IQR\n",
    "    outliers = df[(df[col] < lower_bound) | (df[col] > upper_bound)][col]\n",
    "    print(f\"Number of outliers: {len(outliers)}\")\n",
    "    if len(outliers) > 0:\n",
    "        print(f\"Range of outliers: {outliers.min()} to {outliers.max()}\")\n",
    "\n",
    "     # Add a box plot for visualization\n",
    "    plt.figure(figsize=(8, 4))\n",
    "    sns.boxplot(x=df[col])\n",
    "    plt.title(f\"Box plot of {col}\")\n",
    "    plt.xlabel(col)\n",
    "    plt.show()\n"
   ]
  },
  {
   "cell_type": "markdown",
   "metadata": {},
   "source": [
    "### 3. TODO - Continue clean and transformation at this point....\n",
    "\n",
    "- Handle missing data in numerical cols - can we fill it with the median?\n",
    "- For categorical cols, can we use mode or 'uknown'\n",
    "- Need to handle outliers - do we maybe cap outliers?"
   ]
  },
  {
   "cell_type": "markdown",
   "metadata": {},
   "source": [
    "### Fill missing Risk of Infection percentages with mean values within age brackets"
   ]
  },
  {
   "cell_type": "code",
   "execution_count": 209,
   "metadata": {},
   "outputs": [
    {
     "name": "stdout",
     "output_type": "stream",
     "text": [
      "Missing 'risk_infection' values after processing: 0\n",
      "age\n",
      "0_10     51.285714\n",
      "10_20    60.321951\n",
      "20_30    64.048192\n",
      "30_40    55.339235\n",
      "40_50    48.019801\n",
      "Name: risk_infection, dtype: float64\n"
     ]
    }
   ],
   "source": [
    "# Calcu late the mean 'risk_infection' for each 'age' group\n",
    "age_group_means = df.groupby('age')['risk_infection'].transform('mean')\n",
    "\n",
    "# Fill missing 'risk_infection' values with the calculated age group means\n",
    "df['risk_infection'].fillna(age_group_means, inplace=True)\n",
    "\n",
    "# fill remaining NaNs with the global mean of 'risk_infection'\n",
    "global_mean_risk_infection = df['risk_infection'].mean()\n",
    "df['risk_infection'].fillna(global_mean_risk_infection, inplace=True)\n",
    "\n",
    "# Verify that there are no more missing risk_infection values\n",
    "print(f\"Missing 'risk_infection' values after processing: {df['risk_infection'].isnull().sum()}\")\n",
    "print(df.groupby('age')['risk_infection'].mean().head())"
   ]
  },
  {
   "cell_type": "markdown",
   "metadata": {},
   "source": [
    "### Fill Missing BMI Values with Median"
   ]
  },
  {
   "cell_type": "code",
   "execution_count": 29,
   "metadata": {},
   "outputs": [
    {
     "name": "stdout",
     "output_type": "stream",
     "text": [
      "Missing BMI values filled with median: 26.8\n",
      "Number of remaining NaNs in BMI: 0\n"
     ]
    }
   ],
   "source": [
    "bmi_median = df['bmi'].median()\n",
    "df['bmi'].fillna(bmi_median, inplace=True)\n",
    "\n",
    "print(f\"Missing BMI values filled with median: {bmi_median}\")\n",
    "print(f\"Number of remaining NaNs in BMI: {df['bmi'].isnull().sum()}\")"
   ]
  },
  {
   "cell_type": "markdown",
   "metadata": {},
   "source": [
    "### 4. TODO - Visualise changes with histogram"
   ]
  },
  {
   "cell_type": "code",
   "execution_count": 30,
   "metadata": {},
   "outputs": [
    {
     "data": {
      "image/png": "[encoded data removed]",
      "text/plain": [
       "<Figure size 1500x1000 with 5 Axes>"
      ]
     },
     "metadata": {},
     "output_type": "display_data"
    }
   ],
   "source": [
    "# NOT COMPLETE....can we use seaborn?\n",
    "numerical_cols = ['height', 'weight', 'bmi', 'risk_infection', 'risk_mortality']\n",
    "\n",
    "plt.figure(figsize=(15, 10))\n",
    "\n",
    "for i, col in enumerate(numerical_cols):\n",
    "    plt.subplot(2, 3, i + 1)\n",
    "    sns.histplot(df[col].dropna(), kde=True)\n",
    "    plt.title(f'Distribution of {col.replace(\"_\", \" \").title()}')\n",
    "    plt.xlabel(col.replace(\"_\", \" \").title())\n",
    "    plt.ylabel('Frequency')\n",
    "plt.tight_layout()\n",
    "plt.show()"
   ]
  },
  {
   "cell_type": "markdown",
   "metadata": {},
   "source": [
    "### 5. Data Preparation Reflection\n",
    "\n",
    "While reviewing the dataset, we identified multiple areas of data inconsistencies caused by incorrect data entry, missing values, and extreme outliers. To analyze skewness and distribution patterns, we employed visualization techniques, generating histograms and box plots for key variables.\n",
    "\n",
    "In some cases, we normalised data, such as standardising date formats to ensure uniformity across records. In other cases, we removed features entirely, such as *longitude* and *latitude*, to streamline data exploration and avoid unnecessary complexity.\n",
    "\n",
    "For categorical features, we opted to fill missing values using the mode. For instance:\n",
    "- Missing values in the *Smoking* attribute were replaced with the most common category: ????? {help?}.\n",
    "- Missing values in the pre-existing conditions column were filled with ????? {help !!!}  to reflect the majority of the dataset.\n",
    "\n",
    "For numerical features, our approach depended on the distribution:\n",
    "- *BMI values* were filled using the median to prevent skewness from extreme values.\n",
    "- *Risk of infection* percentages were replaced with mean values within age brackets to retain realistic trends.\n",
    "\n"
   ]
  },
  {
   "cell_type": "markdown",
   "metadata": {},
   "source": [
    "# Task 3 - Data Mining and Feature Selection"
   ]
  },
  {
   "cell_type": "markdown",
   "metadata": {},
   "source": [
    "i: Determine if there is a strong relationship between the variables covid19_positive and smoking? How would you handle these two variables in the data modelling based on your findings?"
   ]
  },
  {
   "cell_type": "code",
   "execution_count": 38,
   "metadata": {},
   "outputs": [
    {
     "name": "stdout",
     "output_type": "stream",
     "text": [
      "--- Frequency of covid19_positive ---\n",
      "covid19_positive\n",
      "False    0.596649\n",
      "True     0.403351\n",
      "Name: proportion, dtype: float64\n",
      "\n",
      "--- Frequency of smoking ---\n",
      "smoking\n",
      "Never Smoked     0.645402\n",
      "Former Smoker    0.221971\n",
      "Vape User        0.042934\n",
      "yesmedium        0.039979\n",
      "yeslight         0.035807\n",
      "Heavy Smoker     0.013906\n",
      "Name: proportion, dtype: float64\n",
      "\n",
      "--- Contingency Table ---\n",
      "covid19_positive  False  True  % Positive\n",
      "smoking                                  \n",
      "Former Smoker       746   531       41.58\n",
      "Heavy Smoker         33    47       58.75\n",
      "Never Smoked       2313  1400       37.71\n",
      "Vape User           122   125       50.61\n",
      "yeslight            121    85       41.26\n",
      "yesmedium           119   111       48.26\n"
     ]
    },
    {
     "data": {
      "image/png": "[encoded data removed]",
      "text/plain": [
       "<Figure size 640x480 with 1 Axes>"
      ]
     },
     "metadata": {},
     "output_type": "display_data"
    },
    {
     "name": "stdout",
     "output_type": "stream",
     "text": [
      "\n",
      "Chi-squared value: 39.46\n",
      "p-value: 0.0000\n",
      "\n",
      "--- COVID-19 Positive Rate within Smoking Categories ---\n",
      "covid19_positive     False     True \n",
      "smoking                             \n",
      "Former Smoker     0.584182  0.415818\n",
      "Heavy Smoker      0.412500  0.587500\n",
      "Never Smoked      0.622946  0.377054\n",
      "Vape User         0.493927  0.506073\n",
      "yeslight          0.587379  0.412621\n",
      "yesmedium         0.517391  0.482609\n"
     ]
    }
   ],
   "source": [
    "from scipy.stats import chi2_contingency\n",
    "\n",
    "# 1. Frequency distribution of each variable\n",
    "print(\"--- Frequency of covid19_positive ---\")\n",
    "print(df[\"covid19_positive\"].value_counts(normalize=True))\n",
    "\n",
    "print(\"\\n--- Frequency of smoking ---\")\n",
    "print(df[\"smoking\"].value_counts(normalize=True))\n",
    "\n",
    "# 2. Contingency table\n",
    "contingency = pd.crosstab(df[\"smoking\"], df[\"covid19_positive\"])\n",
    "contingency_display = contingency.copy()\n",
    "contingency_display[\"% Positive\"] = (contingency_display[True] / contingency_display.sum(axis=1)) * 100\n",
    "contingency_display[\"% Positive\"] = contingency_display[\"% Positive\"].round(2)\n",
    "\n",
    "print(\"\\n--- Contingency Table ---\")\n",
    "print(contingency_display)\n",
    "\n",
    "# 3. Visualisation\n",
    "contingency.plot(kind=\"bar\", stacked=True)\n",
    "plt.title(\"Smoking vs COVID-19 Positive\")\n",
    "plt.ylabel(\"Count\")\n",
    "plt.xlabel(\"Smoking Status\")\n",
    "plt.tight_layout()\n",
    "plt.show()\n",
    "\n",
    "\n",
    "# 4. Chi-Squared Test\n",
    "chi2, p, dof, expected = chi2_contingency(contingency)\n",
    "print(f\"\\nChi-squared value: {chi2:.2f}\")\n",
    "print(f\"p-value: {p:.4f}\")\n",
    "\n",
    "# 5. Percentage within each smoking group\n",
    "percent_table = contingency.div(contingency.sum(axis=1), axis=0)\n",
    "print(\"\\n--- COVID-19 Positive Rate within Smoking Categories ---\")\n",
    "print(percent_table)\n"
   ]
  },
  {
   "cell_type": "markdown",
   "metadata": {},
   "source": [
    "ii: Identify the highly correlated variable pairs and elaborate on how to treat these variables in the mining process."
   ]
  },
  {
   "cell_type": "markdown",
   "metadata": {},
   "source": [
    "chatGPT suggestion: "
   ]
  },
  {
   "cell_type": "markdown",
   "metadata": {},
   "source": [
    "To identify highly correlated variables, we computed a Pearson correlation matrix using all numeric variables. Variables with a correlation coefficient greater than 0.7 were flagged for further investigation. The strongest correlations included:\n",
    "height and weight: expected due to their biological link. We retained only the BMI feature as it encapsulates both.\n",
    "risk_infection and risk_mortality: possibly due to overlapping assessment methods. In downstream modelling, we may apply dimensionality reduction (e.g., PCA) or evaluate their contribution using feature importance.\n",
    "covid19_contact and covid19_positive: since contact is a likely causal factor of positivity, we may exclude it in some models to avoid data leakage, depending on the task.\n",
    "Proper treatment of correlated variables improves model generalisability and helps prevent overfitting or bias in feature interpretation."
   ]
  },
  {
   "cell_type": "code",
   "execution_count": 34,
   "metadata": {},
   "outputs": [
    {
     "name": "stdout",
     "output_type": "stream",
     "text": [
      "risk_infection  covid19_positive    0.915573\n",
      "bmi             weight              0.862463\n",
      "dtype: float64\n"
     ]
    }
   ],
   "source": [
    "# Filter numeric columns only\n",
    "numeric_df = df.select_dtypes(include=[\"int64\", \"float64\", \"bool\"])\n",
    "\n",
    "\n",
    "# Compute correlation matrix\n",
    "corr_matrix = numeric_df.corr()\n",
    "\n",
    "# Take the absolute value to focus on strength, not direction\n",
    "abs_corr = corr_matrix.abs()\n",
    "\n",
    "# Unstack, drop self-correlations, and filter\n",
    "strong_corr = abs_corr.unstack().sort_values(ascending=False)\n",
    "strong_corr = strong_corr[strong_corr < 1.0]  # remove self-correlation\n",
    "strong_corr = strong_corr[strong_corr > 0.7]\n",
    "\n",
    "# Drop duplicate pairs (e.g., A→B and B→A)\n",
    "strong_corr = strong_corr[~strong_corr.duplicated()]\n",
    "print(strong_corr)\n"
   ]
  },
  {
   "cell_type": "code",
   "execution_count": null,
   "metadata": {},
   "outputs": [],
   "source": []
  }
 ],
 "metadata": {
  "kernelspec": {
   "display_name": ".venv",
   "language": "python",
   "name": "python3"
  },
  "language_info": {
   "codemirror_mode": {
    "name": "ipython",
    "version": 3
   },
   "file_extension": ".py",
   "mimetype": "text/x-python",
   "name": "python",
   "nbconvert_exporter": "python",
   "pygments_lexer": "ipython3",
   "version": "3.13.2"
  }
 },
 "nbformat": 4,
 "nbformat_minor": 4
}
