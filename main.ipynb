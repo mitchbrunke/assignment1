{
 "cells": [
  {
   "cell_type": "markdown",
   "metadata": {},
   "source": [
    "# Data Type Corrections for Medical Dataset\n",
    "\n",
    "This notebook implements Task 1 of the assignment, focusing on examining and correcting data types in the medical dataset."
   ]
  },
  {
   "cell_type": "markdown",
   "metadata": {},
   "source": [
    "## Import Required Libraries"
   ]
  },
  {
   "cell_type": "code",
   "execution_count": 21,
   "metadata": {},
   "outputs": [],
   "source": [
    "import pandas as pd\n",
    "import numpy as np\n",
    "import matplotlib.pyplot as plt\n",
    "import seaborn as sns\n",
    "from datetime import datetime\n",
    "import warnings\n",
    "from pandas.api.types import CategoricalDtype\n",
    "\n",
    "warnings.filterwarnings(\"ignore\")"
   ]
  },
  {
   "cell_type": "markdown",
   "metadata": {},
   "source": [
    "## Load and Display Initial Data"
   ]
  },
  {
   "cell_type": "code",
   "execution_count": 22,
   "metadata": {},
   "outputs": [
    {
     "name": "stdout",
     "output_type": "stream",
     "text": [
      "--- Initial Data Types ---\n"
     ]
    },
    {
     "data": {
      "text/plain": [
       "survey_date                object\n",
       "region                     object\n",
       "country                    object\n",
       "ip_latitude               float64\n",
       "ip_longitude              float64\n",
       "gender                     object\n",
       "age                        object\n",
       "height                      int64\n",
       "weight                      int64\n",
       "bmi                       float64\n",
       "blood_type                 object\n",
       "insurance                  object\n",
       "income                     object\n",
       "smoking                    object\n",
       "alcohol                   float64\n",
       "cocaine                   float64\n",
       "contacts_count            float64\n",
       "public_transport_count    float64\n",
       "working                    object\n",
       "worried                   float64\n",
       "covid19_positive            int64\n",
       "covid19_symptoms            int64\n",
       "covid19_contact             int64\n",
       "asthma                      int64\n",
       "kidney_disease              int64\n",
       "liver_disease               int64\n",
       "compromised_immune          int64\n",
       "heart_disease               int64\n",
       "lung_disease                int64\n",
       "diabetes                    int64\n",
       "hiv_positive                int64\n",
       "other_chronic               int64\n",
       "nursing_home                int64\n",
       "health_worker               int64\n",
       "risk_infection            float64\n",
       "risk_mortality            float64\n",
       "dtype: object"
      ]
     },
     "execution_count": 22,
     "metadata": {},
     "output_type": "execute_result"
    }
   ],
   "source": [
    "# Load the dataset\n",
    "df = pd.read_excel(\"C:\\\\Users\\\\galle\\\\Documents\\\\www\\\\qut\\\\assignment1\\\\medical-dataset.xlsx\")\n",
    "\n",
    "print(\"--- Initial Data Types ---\")\n",
    "df.dtypes"
   ]
  },
  {
   "cell_type": "markdown",
   "metadata": {},
   "source": [
    "## Task 1: Data Type Corrections\n",
    "\n",
    "We'll now implement the necessary data type corrections for each variable in the dataset."
   ]
  },
  {
   "cell_type": "markdown",
   "metadata": {},
   "source": [
    "### 1. Date Conversion"
   ]
  },
  {
   "cell_type": "code",
   "execution_count": 23,
   "metadata": {},
   "outputs": [],
   "source": [
    "def convert_date(date_str):\n",
    "    if pd.isna(date_str):\n",
    "        return pd.NaT\n",
    "    try:\n",
    "        for fmt in ['%Y-%m-%d %H:%M:%S', '%d/%m/%Y', '%Y-%m-%d']:\n",
    "            try:\n",
    "                return pd.to_datetime(date_str, format=fmt)\n",
    "            except:\n",
    "                continue\n",
    "        return pd.to_datetime(date_str, infer_datetime_format=True)\n",
    "    except:\n",
    "        return pd.NaT\n",
    "\n",
    "df['survey_date'] = df['survey_date'].apply(convert_date)"
   ]
  },
  {
   "cell_type": "markdown",
   "metadata": {},
   "source": [
    "### 2. Age - Convert to Ordered Categorical"
   ]
  },
  {
   "cell_type": "code",
   "execution_count": 24,
   "metadata": {},
   "outputs": [
    {
     "name": "stdout",
     "output_type": "stream",
     "text": [
      "Age Categories:\n",
      "Index(['0_10', '10_20', '20_30', '30_40', '40_50', '50_60', '60_70', '70_80',\n",
      "       '80_90', '90_plus'],\n",
      "      dtype='object')\n",
      "\n",
      "Age Value Counts:\n"
     ]
    },
    {
     "data": {
      "text/plain": [
       "age\n",
       "0_10         14\n",
       "10_20       205\n",
       "20_30       996\n",
       "30_40      1412\n",
       "40_50      1111\n",
       "50_60       926\n",
       "60_70       765\n",
       "70_80       354\n",
       "80_90         0\n",
       "90_plus       6\n",
       "Name: count, dtype: int64"
      ]
     },
     "execution_count": 24,
     "metadata": {},
     "output_type": "execute_result"
    }
   ],
   "source": [
    "df['age'] = df['age'].replace(\"100_110\", \"90_plus\")\n",
    "age_order = ['0_10', '10_20', '20_30', '30_40', '40_50', '50_60', \n",
    "             '60_70', '70_80', '80_90', '90_plus']\n",
    "age_dtype = pd.api.types.CategoricalDtype(categories=age_order, ordered=True)\n",
    "df['age'] = df['age'].astype(age_dtype)\n",
    "\n",
    "# Display age categories and their counts\n",
    "print(\"Age Categories:\")\n",
    "print(df['age'].cat.categories)\n",
    "print(\"\\nAge Value Counts:\")\n",
    "df['age'].value_counts(sort=False)"
   ]
  },
  {
   "cell_type": "markdown",
   "metadata": {},
   "source": [
    "### 3. Gender - Convert to Nominal Categorical"
   ]
  },
  {
   "cell_type": "code",
   "execution_count": 25,
   "metadata": {},
   "outputs": [
    {
     "name": "stdout",
     "output_type": "stream",
     "text": [
      "Gender Categories:\n"
     ]
    },
    {
     "data": {
      "text/plain": [
       "gender\n",
       "male      2985\n",
       "female    2790\n",
       "other       14\n",
       "Name: count, dtype: int64"
      ]
     },
     "execution_count": 25,
     "metadata": {},
     "output_type": "execute_result"
    }
   ],
   "source": [
    "df['gender'] = df['gender'].astype('category')\n",
    "print(\"Gender Categories:\")\n",
    "df['gender'].value_counts()"
   ]
  },
  {
   "cell_type": "markdown",
   "metadata": {},
   "source": [
    "### 4. Region and Country - Convert to Categorical with 'Unknown'"
   ]
  },
  {
   "cell_type": "code",
   "execution_count": 26,
   "metadata": {},
   "outputs": [
    {
     "name": "stdout",
     "output_type": "stream",
     "text": [
      "\n",
      "Region Categories:\n",
      "region\n",
      "Unknown    4227\n",
      "EU          801\n",
      "SA          399\n",
      "AS          206\n",
      "AF           79\n",
      "OC           77\n",
      "Name: count, dtype: int64\n",
      "\n",
      "Country Categories:\n",
      "country\n",
      "US    3885\n",
      "GB     365\n",
      "BR     270\n",
      "CA     208\n",
      "MX      94\n",
      "      ... \n",
      "BS       1\n",
      "BM       1\n",
      "AZ       1\n",
      "AW       1\n",
      "JE       1\n",
      "Name: count, Length: 95, dtype: int64\n"
     ]
    }
   ],
   "source": [
    "for col in ['region', 'country']:\n",
    "    df[col] = df[col].astype('category')\n",
    "    if 'Unknown' not in df[col].cat.categories:\n",
    "        df[col] = df[col].cat.add_categories('Unknown')\n",
    "    df[col] = df[col].fillna('Unknown')\n",
    "    \n",
    "    print(f\"\\n{col.capitalize()} Categories:\")\n",
    "    print(df[col].value_counts())"
   ]
  },
  {
   "cell_type": "markdown",
   "metadata": {},
   "source": [
    "### 5. Height and Weight - Convert to Integer"
   ]
  },
  {
   "cell_type": "code",
   "execution_count": 27,
   "metadata": {},
   "outputs": [
    {
     "name": "stdout",
     "output_type": "stream",
     "text": [
      "Height Summary:\n",
      "count        5789.0\n",
      "mean     172.030057\n",
      "std         10.9176\n",
      "min           110.0\n",
      "25%           164.0\n",
      "50%           172.0\n",
      "75%           180.0\n",
      "max           238.0\n",
      "Name: height, dtype: Float64\n",
      "\n",
      "Weight Summary:\n",
      "count       5789.0\n",
      "mean     84.773881\n",
      "std        23.5763\n",
      "min           44.0\n",
      "25%           68.0\n",
      "50%           82.0\n",
      "75%           96.0\n",
      "max          180.0\n",
      "Name: weight, dtype: Float64\n"
     ]
    }
   ],
   "source": [
    "df['height'] = df['height'].astype('Int64')  # Using Int64 to handle NaN values\n",
    "df['weight'] = df['weight'].astype('Int64')\n",
    "\n",
    "print(\"Height Summary:\")\n",
    "print(df['height'].describe())\n",
    "print(\"\\nWeight Summary:\")\n",
    "print(df['weight'].describe())"
   ]
  },
  {
   "cell_type": "markdown",
   "metadata": {},
   "source": [
    "### 6. BMI - Keep as Float"
   ]
  },
  {
   "cell_type": "code",
   "execution_count": 28,
   "metadata": {},
   "outputs": [
    {
     "name": "stdout",
     "output_type": "stream",
     "text": [
      "BMI Summary:\n"
     ]
    },
    {
     "data": {
      "text/plain": [
       "count    5789.000000\n",
       "mean       28.570116\n",
       "std         7.674528\n",
       "min        11.900000\n",
       "25%        23.500000\n",
       "50%        26.800000\n",
       "75%        31.800000\n",
       "max       125.000000\n",
       "Name: bmi, dtype: float64"
      ]
     },
     "execution_count": 28,
     "metadata": {},
     "output_type": "execute_result"
    }
   ],
   "source": [
    "df['bmi'] = df['bmi'].astype('float64')\n",
    "print(\"BMI Summary:\")\n",
    "df['bmi'].describe()"
   ]
  },
  {
   "cell_type": "markdown",
   "metadata": {},
   "source": [
    "### 7. Blood Type - Convert to Categorical with 'Unknown'"
   ]
  },
  {
   "cell_type": "code",
   "execution_count": 29,
   "metadata": {},
   "outputs": [
    {
     "name": "stdout",
     "output_type": "stream",
     "text": [
      "Blood Type Categories:\n"
     ]
    },
    {
     "data": {
      "text/plain": [
       "blood_type\n",
       "unknown    1784\n",
       "ap         1279\n",
       "op         1251\n",
       "on          417\n",
       "bp          394\n",
       "an          244\n",
       "abp         191\n",
       "Unknown     100\n",
       "bn           91\n",
       "abn          38\n",
       "Name: count, dtype: int64"
      ]
     },
     "execution_count": 29,
     "metadata": {},
     "output_type": "execute_result"
    }
   ],
   "source": [
    "df['blood_type'] = df['blood_type'].astype('category')\n",
    "if 'Unknown' not in df['blood_type'].cat.categories:\n",
    "    df['blood_type'] = df['blood_type'].cat.add_categories('Unknown')\n",
    "df['blood_type'] = df['blood_type'].fillna('Unknown')\n",
    "\n",
    "print(\"Blood Type Categories:\")\n",
    "df['blood_type'].value_counts()"
   ]
  },
  {
   "cell_type": "markdown",
   "metadata": {},
   "source": [
    "### 8. Insurance - Convert to Boolean with NA for Unknown"
   ]
  },
  {
   "cell_type": "code",
   "execution_count": 30,
   "metadata": {},
   "outputs": [
    {
     "name": "stdout",
     "output_type": "stream",
     "text": [
      "Insurance Value Counts:\n"
     ]
    },
    {
     "data": {
      "text/plain": [
       "Series([], Name: count, dtype: int64)"
      ]
     },
     "execution_count": 30,
     "metadata": {},
     "output_type": "execute_result"
    }
   ],
   "source": [
    "df['insurance'] = df['insurance'].map({'Yes': True, 'No': False, 'Unknown': pd.NA})\n",
    "print(\"Insurance Value Counts:\")\n",
    "df['insurance'].value_counts()"
   ]
  },
  {
   "cell_type": "markdown",
   "metadata": {},
   "source": [
    "### 9. Income - Convert to Categorical"
   ]
  },
  {
   "cell_type": "code",
   "execution_count": 31,
   "metadata": {},
   "outputs": [
    {
     "name": "stdout",
     "output_type": "stream",
     "text": [
      "Income Categories:\n"
     ]
    },
    {
     "data": {
      "text/plain": [
       "income\n",
       "med      2142\n",
       "high     1886\n",
       "low       398\n",
       "blank     122\n",
       "gov        88\n",
       "Name: count, dtype: int64"
      ]
     },
     "execution_count": 31,
     "metadata": {},
     "output_type": "execute_result"
    }
   ],
   "source": [
    "df['income'] = df['income'].astype('category')\n",
    "print(\"Income Categories:\")\n",
    "df['income'].value_counts()"
   ]
  },
  {
   "cell_type": "markdown",
   "metadata": {},
   "source": [
    "### 10. Smoking - Convert to Categorical with Bins"
   ]
  },
  {
   "cell_type": "code",
   "execution_count": 32,
   "metadata": {},
   "outputs": [
    {
     "name": "stdout",
     "output_type": "stream",
     "text": [
      "Smoking Categories:\n"
     ]
    },
    {
     "data": {
      "text/plain": [
       "smoking\n",
       "Never Smoked     3713\n",
       "Former Smoker    1277\n",
       "Vape User         247\n",
       "yesmedium         230\n",
       "yeslight          206\n",
       "Heavy Smoker       80\n",
       "Name: count, dtype: int64"
      ]
     },
     "execution_count": 32,
     "metadata": {},
     "output_type": "execute_result"
    }
   ],
   "source": [
    "smoking_bins = {\n",
    "    'quit0': 'Former Smoker',\n",
    "    'quit5': 'Former Smoker',\n",
    "    'quit10': 'Former Smoker',\n",
    "    'vape': 'Vape User',\n",
    "    'yesheavy': 'Heavy Smoker',\n",
    "    'light': 'Light Smoker',\n",
    "    'medium': 'Medium Smoker',\n",
    "    'never': 'Never Smoked',\n",
    "    -1: 'Unknown'\n",
    "}\n",
    "df['smoking'] = df['smoking'].replace(smoking_bins)\n",
    "df['smoking'] = df['smoking'].astype('category')\n",
    "\n",
    "print(\"Smoking Categories:\")\n",
    "df['smoking'].value_counts()"
   ]
  },
  {
   "cell_type": "markdown",
   "metadata": {},
   "source": [
    "### 11. Alcohol - Convert to Categorical Ordinal"
   ]
  },
  {
   "cell_type": "code",
   "execution_count": 33,
   "metadata": {},
   "outputs": [
    {
     "name": "stdout",
     "output_type": "stream",
     "text": [
      "Alcohol Categories:\n"
     ]
    },
    {
     "data": {
      "text/plain": [
       "alcohol\n",
       "Unknown    1920\n",
       "0.0        1275\n",
       "1.0         612\n",
       "2.0         466\n",
       "3.0         310\n",
       "4.0         247\n",
       "5.0         194\n",
       "7.0         166\n",
       "14.0        117\n",
       "10.0        108\n",
       "6.0          86\n",
       "13.0         72\n",
       "12.0         64\n",
       "8.0          48\n",
       "9.0          39\n",
       "11.0         27\n",
       "Name: count, dtype: int64"
      ]
     },
     "execution_count": 33,
     "metadata": {},
     "output_type": "execute_result"
    }
   ],
   "source": [
    "df['alcohol'] = df['alcohol'].replace(-1, 'Unknown')\n",
    "df['alcohol'] = df['alcohol'].astype('category')\n",
    "\n",
    "print(\"Alcohol Categories:\")\n",
    "df['alcohol'].value_counts()"
   ]
  },
  {
   "cell_type": "markdown",
   "metadata": {},
   "source": [
    "### 12. Cocaine - Convert to Categorical with Unknown"
   ]
  },
  {
   "cell_type": "code",
   "execution_count": 34,
   "metadata": {},
   "outputs": [
    {
     "name": "stdout",
     "output_type": "stream",
     "text": [
      "Cocaine Categories:\n"
     ]
    },
    {
     "data": {
      "text/plain": [
       "cocaine\n",
       "Unknown    1078\n",
       "0.0         228\n",
       "1.0          33\n",
       "2.0          17\n",
       "5.0          14\n",
       "4.0          12\n",
       "3.0          12\n",
       "7.0           7\n",
       "9.0           5\n",
       "28.0          4\n",
       "10.0          3\n",
       "20.0          3\n",
       "27.0          3\n",
       "6.0           2\n",
       "16.0          2\n",
       "23.0          2\n",
       "25.0          1\n",
       "15.0          1\n",
       "22.0          1\n",
       "21.0          1\n",
       "14.0          1\n",
       "Name: count, dtype: int64"
      ]
     },
     "execution_count": 34,
     "metadata": {},
     "output_type": "execute_result"
    }
   ],
   "source": [
    "df['cocaine'] = df['cocaine'].replace(-1, 'Unknown')\n",
    "df['cocaine'] = df['cocaine'].astype('category')\n",
    "\n",
    "print(\"Cocaine Categories:\")\n",
    "df['cocaine'].value_counts()"
   ]
  },
  {
   "cell_type": "markdown",
   "metadata": {},
   "source": [
    "### 13. Contact Counts - Convert to Int64"
   ]
  },
  {
   "cell_type": "code",
   "execution_count": 35,
   "metadata": {},
   "outputs": [
    {
     "name": "stdout",
     "output_type": "stream",
     "text": [
      "Contacts Count Summary:\n",
      "count      5747.0\n",
      "mean     7.828432\n",
      "std      6.672943\n",
      "min           0.0\n",
      "25%           3.0\n",
      "50%           5.0\n",
      "75%          10.0\n",
      "max          21.0\n",
      "Name: contacts_count, dtype: Float64\n",
      "\n",
      "Public Transport Count Summary:\n",
      "count      4572.0\n",
      "mean     0.415573\n",
      "std      1.811049\n",
      "min           0.0\n",
      "25%           0.0\n",
      "50%           0.0\n",
      "75%           0.0\n",
      "max          15.0\n",
      "Name: public_transport_count, dtype: Float64\n"
     ]
    }
   ],
   "source": [
    "df['contacts_count'] = df['contacts_count'].astype('Int64')\n",
    "df['public_transport_count'] = df['public_transport_count'].astype('Int64')\n",
    "\n",
    "print(\"Contacts Count Summary:\")\n",
    "print(df['contacts_count'].describe())\n",
    "print(\"\\nPublic Transport Count Summary:\")\n",
    "print(df['public_transport_count'].describe())"
   ]
  },
  {
   "cell_type": "markdown",
   "metadata": {},
   "source": [
    "### 14. Working - Convert to Categorical"
   ]
  },
  {
   "cell_type": "code",
   "execution_count": 36,
   "metadata": {},
   "outputs": [
    {
     "name": "stdout",
     "output_type": "stream",
     "text": [
      "Working Status Categories:\n"
     ]
    },
    {
     "data": {
      "text/plain": [
       "working\n",
       "stopped                1732\n",
       "never                  1577\n",
       "travel critical        1312\n",
       "travel non critical     620\n",
       "home                    506\n",
       "Name: count, dtype: int64"
      ]
     },
     "execution_count": 36,
     "metadata": {},
     "output_type": "execute_result"
    }
   ],
   "source": [
    "df['working'] = df['working'].astype('category')\n",
    "print(\"Working Status Categories:\")\n",
    "df['working'].value_counts()"
   ]
  },
  {
   "cell_type": "markdown",
   "metadata": {},
   "source": [
    "### 15. Worried - Convert to Integer"
   ]
  },
  {
   "cell_type": "code",
   "execution_count": 37,
   "metadata": {},
   "outputs": [
    {
     "name": "stdout",
     "output_type": "stream",
     "text": [
      "Worried Level Summary:\n"
     ]
    },
    {
     "data": {
      "text/plain": [
       "count      4518.0\n",
       "mean     3.530987\n",
       "std      0.792812\n",
       "min           1.0\n",
       "25%           3.0\n",
       "50%           4.0\n",
       "75%           4.0\n",
       "max           5.0\n",
       "Name: worried, dtype: Float64"
      ]
     },
     "execution_count": 37,
     "metadata": {},
     "output_type": "execute_result"
    }
   ],
   "source": [
    "df['worried'] = df['worried'].astype('Int64')\n",
    "print(\"Worried Level Summary:\")\n",
    "df['worried'].describe()"
   ]
  },
  {
   "cell_type": "markdown",
   "metadata": {},
   "source": [
    "### 16. Health Conditions - Convert to Boolean"
   ]
  },
  {
   "cell_type": "code",
   "execution_count": 38,
   "metadata": {},
   "outputs": [
    {
     "name": "stdout",
     "output_type": "stream",
     "text": [
      "Health Conditions Summary:\n",
      "\n",
      "covid19_positive:\n",
      "covid19_positive\n",
      "False    3454\n",
      "True     2335\n",
      "Name: count, dtype: int64\n",
      "\n",
      "covid19_symptoms:\n",
      "covid19_symptoms\n",
      "False    4792\n",
      "True      997\n",
      "Name: count, dtype: int64\n",
      "\n",
      "covid19_contact:\n",
      "covid19_contact\n",
      "False    4800\n",
      "True      989\n",
      "Name: count, dtype: int64\n",
      "\n",
      "asthma:\n",
      "asthma\n",
      "False    5032\n",
      "True      757\n",
      "Name: count, dtype: int64\n",
      "\n",
      "kidney_disease:\n",
      "kidney_disease\n",
      "False    5726\n",
      "True       63\n",
      "Name: count, dtype: int64\n",
      "\n",
      "liver_disease:\n",
      "liver_disease\n",
      "False    5745\n",
      "True       44\n",
      "Name: count, dtype: int64\n",
      "\n",
      "compromised_immune:\n",
      "compromised_immune\n",
      "False    5444\n",
      "True      345\n",
      "Name: count, dtype: int64\n",
      "\n",
      "heart_disease:\n",
      "heart_disease\n",
      "False    5607\n",
      "True      182\n",
      "Name: count, dtype: int64\n",
      "\n",
      "lung_disease:\n",
      "lung_disease\n",
      "False    5654\n",
      "True      135\n",
      "Name: count, dtype: int64\n",
      "\n",
      "diabetes:\n",
      "diabetes\n",
      "False    5320\n",
      "True      469\n",
      "Name: count, dtype: int64\n",
      "\n",
      "hiv_positive:\n",
      "hiv_positive\n",
      "False    5766\n",
      "True       23\n",
      "Name: count, dtype: int64\n",
      "\n",
      "other_chronic:\n",
      "other_chronic\n",
      "False    5411\n",
      "True      378\n",
      "Name: count, dtype: int64\n",
      "\n",
      "nursing_home:\n",
      "nursing_home\n",
      "False    5768\n",
      "True       21\n",
      "Name: count, dtype: int64\n",
      "\n",
      "health_worker:\n",
      "health_worker\n",
      "False    5299\n",
      "True      490\n",
      "Name: count, dtype: int64\n"
     ]
    }
   ],
   "source": [
    "health_conditions = [\n",
    "    'covid19_positive', 'covid19_symptoms', 'covid19_contact',\n",
    "    'asthma', 'kidney_disease', 'liver_disease', 'compromised_immune',\n",
    "    'heart_disease', 'lung_disease', 'diabetes', 'hiv_positive',\n",
    "    'other_chronic', 'nursing_home', 'health_worker'\n",
    "]\n",
    "\n",
    "for col in health_conditions:\n",
    "    df[col] = df[col].astype('bool')\n",
    "    \n",
    "print(\"Health Conditions Summary:\")\n",
    "for col in health_conditions:\n",
    "    print(f\"\\n{col}:\")\n",
    "    print(df[col].value_counts())"
   ]
  },
  {
   "cell_type": "markdown",
   "metadata": {},
   "source": [
    "### 17. Risk Values - Convert to Float and Normalize"
   ]
  },
  {
   "cell_type": "code",
   "execution_count": 39,
   "metadata": {},
   "outputs": [
    {
     "name": "stdout",
     "output_type": "stream",
     "text": [
      "Risk Infection Summary:\n",
      "count    5789.000000\n",
      "mean        0.509772\n",
      "std         0.440276\n",
      "min         0.050000\n",
      "25%         0.050000\n",
      "50%         0.370000\n",
      "75%         1.000000\n",
      "max         1.000000\n",
      "Name: risk_infection, dtype: float64\n",
      "\n",
      "Risk Mortality Summary:\n",
      "count    5789.000000\n",
      "mean        0.005623\n",
      "std         0.010778\n",
      "min         0.000500\n",
      "25%         0.000500\n",
      "50%         0.001560\n",
      "75%         0.005990\n",
      "max         0.286980\n",
      "Name: risk_mortality, dtype: float64\n"
     ]
    }
   ],
   "source": [
    "df['risk_infection'] = df['risk_infection'].astype('float64') / 100\n",
    "df['risk_mortality'] = df['risk_mortality'].astype('float64') / 100\n",
    "\n",
    "print(\"Risk Infection Summary:\")\n",
    "print(df['risk_infection'].describe())\n",
    "print(\"\\nRisk Mortality Summary:\")\n",
    "print(df['risk_mortality'].describe())"
   ]
  },
  {
   "cell_type": "markdown",
   "metadata": {},
   "source": [
    "## Final Data Types Check"
   ]
  },
  {
   "cell_type": "code",
   "execution_count": 40,
   "metadata": {},
   "outputs": [
    {
     "name": "stdout",
     "output_type": "stream",
     "text": [
      "Final Data Types:\n"
     ]
    },
    {
     "data": {
      "text/plain": [
       "survey_date               datetime64[ns]\n",
       "region                          category\n",
       "country                         category\n",
       "ip_latitude                      float64\n",
       "ip_longitude                     float64\n",
       "gender                          category\n",
       "age                             category\n",
       "height                             Int64\n",
       "weight                             Int64\n",
       "bmi                              float64\n",
       "blood_type                      category\n",
       "insurance                         object\n",
       "income                          category\n",
       "smoking                         category\n",
       "alcohol                         category\n",
       "cocaine                         category\n",
       "contacts_count                     Int64\n",
       "public_transport_count             Int64\n",
       "working                         category\n",
       "worried                            Int64\n",
       "covid19_positive                    bool\n",
       "covid19_symptoms                    bool\n",
       "covid19_contact                     bool\n",
       "asthma                              bool\n",
       "kidney_disease                      bool\n",
       "liver_disease                       bool\n",
       "compromised_immune                  bool\n",
       "heart_disease                       bool\n",
       "lung_disease                        bool\n",
       "diabetes                            bool\n",
       "hiv_positive                        bool\n",
       "other_chronic                       bool\n",
       "nursing_home                        bool\n",
       "health_worker                       bool\n",
       "risk_infection                   float64\n",
       "risk_mortality                   float64\n",
       "dtype: object"
      ]
     },
     "execution_count": 40,
     "metadata": {},
     "output_type": "execute_result"
    }
   ],
   "source": [
    "print(\"Final Data Types:\")\n",
    "df.dtypes"
   ]
  }
 ],
 "metadata": {
  "kernelspec": {
   "display_name": "Python [conda env:base] *",
   "language": "python",
   "name": "conda-base-py"
  },
  "language_info": {
   "codemirror_mode": {
    "name": "ipython",
    "version": 3
   },
   "file_extension": ".py",
   "mimetype": "text/x-python",
   "name": "python",
   "nbconvert_exporter": "python",
   "pygments_lexer": "ipython3",
   "version": "3.12.7"
  }
 },
 "nbformat": 4,
 "nbformat_minor": 4
}
