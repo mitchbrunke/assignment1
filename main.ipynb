{
 "cells": [
  {
   "cell_type": "markdown",
   "metadata": {},
   "source": [
    "# Data Type Corrections for Medical Dataset\n",
    "\n",
    "This notebook implements Task 1 of the assignment, focusing on examining and correcting data types in the medical dataset."
   ]
  },
  {
   "cell_type": "markdown",
   "metadata": {},
   "source": [
    "## Import Required Libraries"
   ]
  },
  {
   "cell_type": "code",
   "execution_count": 21,
   "metadata": {},
   "outputs": [],
   "source": [
    "import pandas as pd\n",
    "import numpy as np\n",
    "import matplotlib.pyplot as plt\n",
    "import seaborn as sns\n",
    "from datetime import datetime\n",
    "import warnings\n",
    "from pandas.api.types import CategoricalDtype\n",
    "\n",
    "warnings.filterwarnings(\"ignore\")"
   ]
  },
  {
   "cell_type": "markdown",
   "metadata": {},
   "source": [
    "## Load and Display Initial Data"
   ]
  },
  {
   "cell_type": "code",
   "execution_count": null,
   "metadata": {},
   "outputs": [],
   "source": [
    "# Load the dataset\n",
    "df = pd.read_excel(\"C:\\\\Users\\\\galle\\\\Documents\\\\www\\\\qut\\\\assignment1\\\\medical-dataset.xlsx\")\n",
    "\n",
    "print(\"--- Initial Data Types ---\")\n",
    "df.dtypes"
   ]
  },
  {
   "cell_type": "markdown",
   "metadata": {},
   "source": [
    "## Task 1: Data Type Corrections\n",
    "\n",
    "We'll now implement the necessary data type corrections for each variable in the dataset."
   ]
  },
  {
   "cell_type": "markdown",
   "metadata": {},
   "source": [
    "### 1. Date Conversion"
   ]
  },
  {
   "cell_type": "code",
   "execution_count": 23,
   "metadata": {},
   "outputs": [],
   "source": [
    "def convert_date(date_str):\n",
    "    if pd.isna(date_str):\n",
    "        return pd.NaT\n",
    "    try:\n",
    "        for fmt in ['%Y-%m-%d %H:%M:%S', '%d/%m/%Y', '%Y-%m-%d']:\n",
    "            try:\n",
    "                return pd.to_datetime(date_str, format=fmt)\n",
    "            except:\n",
    "                continue\n",
    "        return pd.to_datetime(date_str, infer_datetime_format=True)\n",
    "    except:\n",
    "        return pd.NaT\n",
    "\n",
    "df['survey_date'] = df['survey_date'].apply(convert_date)"
   ]
  },
  {
   "cell_type": "markdown",
   "metadata": {},
   "source": [
    "### 2. Age - Convert to Ordered Categorical"
   ]
  },
  {
   "cell_type": "code",
   "execution_count": null,
   "metadata": {},
   "outputs": [],
   "source": [
    "df['age'] = df['age'].replace(\"100_110\", \"90_plus\")\n",
    "age_order = ['0_10', '10_20', '20_30', '30_40', '40_50', '50_60', \n",
    "             '60_70', '70_80', '80_90', '90_plus']\n",
    "age_dtype = pd.api.types.CategoricalDtype(categories=age_order, ordered=True)\n",
    "df['age'] = df['age'].astype(age_dtype)\n",
    "\n",
    "# Display age categories and their counts\n",
    "print(\"Age Categories:\")\n",
    "print(df['age'].cat.categories)\n",
    "print(\"\\nAge Value Counts:\")\n",
    "df['age'].value_counts(sort=False)"
   ]
  },
  {
   "cell_type": "markdown",
   "metadata": {},
   "source": [
    "### 3. Gender - Convert to Nominal Categorical"
   ]
  },
  {
   "cell_type": "code",
   "execution_count": null,
   "metadata": {},
   "outputs": [],
   "source": [
    "df['gender'] = df['gender'].astype('category')\n",
    "print(\"Gender Categories:\")\n",
    "df['gender'].value_counts()"
   ]
  },
  {
   "cell_type": "markdown",
   "metadata": {},
   "source": [
    "### 4. Region and Country - Convert to Categorical with 'Unknown'"
   ]
  },
  {
   "cell_type": "code",
   "execution_count": null,
   "metadata": {},
   "outputs": [],
   "source": [
    "for col in ['region', 'country']:\n",
    "    df[col] = df[col].astype('category')\n",
    "    if 'Unknown' not in df[col].cat.categories:\n",
    "        df[col] = df[col].cat.add_categories('Unknown')\n",
    "    df[col] = df[col].fillna('Unknown')\n",
    "    \n",
    "    print(f\"\\n{col.capitalize()} Categories:\")\n",
    "    print(df[col].value_counts())"
   ]
  },
  {
   "cell_type": "markdown",
   "metadata": {},
   "source": [
    "### 5. Height and Weight - Convert to Integer"
   ]
  },
  {
   "cell_type": "code",
   "execution_count": null,
   "metadata": {},
   "outputs": [],
   "source": [
    "df['height'] = df['height'].astype('Int64')  # Using Int64 to handle NaN values\n",
    "df['weight'] = df['weight'].astype('Int64')\n",
    "\n",
    "print(\"Height Summary:\")\n",
    "print(df['height'].describe())\n",
    "print(\"\\nWeight Summary:\")\n",
    "print(df['weight'].describe())"
   ]
  },
  {
   "cell_type": "markdown",
   "metadata": {},
   "source": [
    "### 6. BMI - Keep as Float"
   ]
  },
  {
   "cell_type": "code",
   "execution_count": null,
   "metadata": {},
   "outputs": [],
   "source": [
    "df['bmi'] = df['bmi'].astype('float64')\n",
    "print(\"BMI Summary:\")\n",
    "df['bmi'].describe()"
   ]
  },
  {
   "cell_type": "markdown",
   "metadata": {},
   "source": [
    "### 7. Blood Type - Convert to Categorical with 'Unknown'"
   ]
  },
  {
   "cell_type": "code",
   "execution_count": null,
   "metadata": {},
   "outputs": [],
   "source": [
    "df['blood_type'] = df['blood_type'].astype('category')\n",
    "if 'Unknown' not in df['blood_type'].cat.categories:\n",
    "    df['blood_type'] = df['blood_type'].cat.add_categories('Unknown')\n",
    "df['blood_type'] = df['blood_type'].fillna('Unknown')\n",
    "\n",
    "print(\"Blood Type Categories:\")\n",
    "df['blood_type'].value_counts()"
   ]
  },
  {
   "cell_type": "markdown",
   "metadata": {},
   "source": [
    "### 8. Insurance - Convert to Boolean with NA for Unknown"
   ]
  },
  {
   "cell_type": "code",
   "execution_count": null,
   "metadata": {},
   "outputs": [],
   "source": [
    "df['insurance'] = df['insurance'].map({'Yes': True, 'No': False, 'Unknown': pd.NA})\n",
    "print(\"Insurance Value Counts:\")\n",
    "df['insurance'].value_counts()"
   ]
  },
  {
   "cell_type": "markdown",
   "metadata": {},
   "source": [
    "### 9. Income - Convert to Categorical"
   ]
  },
  {
   "cell_type": "code",
   "execution_count": null,
   "metadata": {},
   "outputs": [],
   "source": [
    "df['income'] = df['income'].astype('category')\n",
    "print(\"Income Categories:\")\n",
    "df['income'].value_counts()"
   ]
  },
  {
   "cell_type": "markdown",
   "metadata": {},
   "source": [
    "### 10. Smoking - Convert to Categorical with Bins"
   ]
  },
  {
   "cell_type": "code",
   "execution_count": null,
   "metadata": {},
   "outputs": [],
   "source": [
    "smoking_bins = {\n",
    "    'quit0': 'Former Smoker',\n",
    "    'quit5': 'Former Smoker',\n",
    "    'quit10': 'Former Smoker',\n",
    "    'vape': 'Vape User',\n",
    "    'yesheavy': 'Heavy Smoker',\n",
    "    'light': 'Light Smoker',\n",
    "    'medium': 'Medium Smoker',\n",
    "    'never': 'Never Smoked',\n",
    "    -1: 'Unknown'\n",
    "}\n",
    "df['smoking'] = df['smoking'].replace(smoking_bins)\n",
    "df['smoking'] = df['smoking'].astype('category')\n",
    "\n",
    "print(\"Smoking Categories:\")\n",
    "df['smoking'].value_counts()"
   ]
  },
  {
   "cell_type": "markdown",
   "metadata": {},
   "source": [
    "### 11. Alcohol - Convert to Categorical Ordinal"
   ]
  },
  {
   "cell_type": "code",
   "execution_count": null,
   "metadata": {},
   "outputs": [],
   "source": [
    "df['alcohol'] = df['alcohol'].replace(-1, 'Unknown')\n",
    "df['alcohol'] = df['alcohol'].astype('category')\n",
    "\n",
    "print(\"Alcohol Categories:\")\n",
    "df['alcohol'].value_counts()"
   ]
  },
  {
   "cell_type": "markdown",
   "metadata": {},
   "source": [
    "### 12. Cocaine - Convert to Categorical with Unknown"
   ]
  },
  {
   "cell_type": "code",
   "execution_count": null,
   "metadata": {},
   "outputs": [],
   "source": [
    "df['cocaine'] = df['cocaine'].replace(-1, 'Unknown')\n",
    "df['cocaine'] = df['cocaine'].astype('category')\n",
    "\n",
    "print(\"Cocaine Categories:\")\n",
    "df['cocaine'].value_counts()"
   ]
  },
  {
   "cell_type": "markdown",
   "metadata": {},
   "source": [
    "### 13. Contact Counts - Convert to Int64"
   ]
  },
  {
   "cell_type": "code",
   "execution_count": null,
   "metadata": {},
   "outputs": [],
   "source": [
    "df['contacts_count'] = df['contacts_count'].astype('Int64')\n",
    "df['public_transport_count'] = df['public_transport_count'].astype('Int64')\n",
    "\n",
    "print(\"Contacts Count Summary:\")\n",
    "print(df['contacts_count'].describe())\n",
    "print(\"\\nPublic Transport Count Summary:\")\n",
    "print(df['public_transport_count'].describe())"
   ]
  },
  {
   "cell_type": "markdown",
   "metadata": {},
   "source": [
    "### 14. Working - Convert to Categorical"
   ]
  },
  {
   "cell_type": "code",
   "execution_count": null,
   "metadata": {},
   "outputs": [],
   "source": [
    "df['working'] = df['working'].astype('category')\n",
    "print(\"Working Status Categories:\")\n",
    "df['working'].value_counts()"
   ]
  },
  {
   "cell_type": "markdown",
   "metadata": {},
   "source": [
    "### 15. Worried - Convert to Integer"
   ]
  },
  {
   "cell_type": "code",
   "execution_count": null,
   "metadata": {},
   "outputs": [],
   "source": [
    "df['worried'] = df['worried'].astype('Int64')\n",
    "print(\"Worried Level Summary:\")\n",
    "df['worried'].describe()"
   ]
  },
  {
   "cell_type": "markdown",
   "metadata": {},
   "source": [
    "### 16. Health Conditions - Convert to Boolean"
   ]
  },
  {
   "cell_type": "code",
   "execution_count": null,
   "metadata": {},
   "outputs": [],
   "source": [
    "health_conditions = [\n",
    "    'covid19_positive', 'covid19_symptoms', 'covid19_contact',\n",
    "    'asthma', 'kidney_disease', 'liver_disease', 'compromised_immune',\n",
    "    'heart_disease', 'lung_disease', 'diabetes', 'hiv_positive',\n",
    "    'other_chronic', 'nursing_home', 'health_worker'\n",
    "]\n",
    "\n",
    "for col in health_conditions:\n",
    "    df[col] = df[col].astype('bool')\n",
    "    \n",
    "print(\"Health Conditions Summary:\")\n",
    "for col in health_conditions:\n",
    "    print(f\"\\n{col}:\")\n",
    "    print(df[col].value_counts())"
   ]
  },
  {
   "cell_type": "markdown",
   "metadata": {},
   "source": [
    "### 17. Risk Values - Convert to Float and Normalize"
   ]
  },
  {
   "cell_type": "code",
   "execution_count": null,
   "metadata": {},
   "outputs": [],
   "source": [
    "df['risk_infection'] = df['risk_infection'].astype('float64') / 100\n",
    "df['risk_mortality'] = df['risk_mortality'].astype('float64') / 100\n",
    "\n",
    "print(\"Risk Infection Summary:\")\n",
    "print(df['risk_infection'].describe())\n",
    "print(\"\\nRisk Mortality Summary:\")\n",
    "print(df['risk_mortality'].describe())"
   ]
  },
  {
   "cell_type": "markdown",
   "metadata": {},
   "source": [
    "## Final Data Types Check"
   ]
  },
  {
   "cell_type": "code",
   "execution_count": null,
   "metadata": {},
   "outputs": [],
   "source": [
    "print(\"Final Data Types:\")\n",
    "df.dtypes"
   ]
  }
 ],
 "metadata": {
  "kernelspec": {
   "display_name": "Python [conda env:base] *",
   "language": "python",
   "name": "conda-base-py"
  },
  "language_info": {
   "codemirror_mode": {
    "name": "ipython",
    "version": 3
   },
   "file_extension": ".py",
   "mimetype": "text/x-python",
   "name": "python",
   "nbconvert_exporter": "python",
   "pygments_lexer": "ipython3",
   "version": "3.12.7"
  }
 },
 "nbformat": 4,
 "nbformat_minor": 4
}
